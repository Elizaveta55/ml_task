{
  "nbformat": 4,
  "nbformat_minor": 0,
  "metadata": {
    "colab": {
      "name": "ML_task.ipynb",
      "provenance": []
    },
    "kernelspec": {
      "name": "python3",
      "display_name": "Python 3"
    },
    "language_info": {
      "name": "python"
    },
    "widgets": {
      "application/vnd.jupyter.widget-state+json": {
        "c38eca7ebde44ea6afcd98dba1adcb7f": {
          "model_module": "@jupyter-widgets/controls",
          "model_name": "VBoxModel",
          "model_module_version": "1.5.0",
          "state": {
            "_dom_classes": [
              "widget-interact"
            ],
            "_model_module": "@jupyter-widgets/controls",
            "_model_module_version": "1.5.0",
            "_model_name": "VBoxModel",
            "_view_count": null,
            "_view_module": "@jupyter-widgets/controls",
            "_view_module_version": "1.5.0",
            "_view_name": "VBoxView",
            "box_style": "",
            "children": [
              "IPY_MODEL_9832acb4be7446f190f67b860abc01d9",
              "IPY_MODEL_e23f045eae4544099d1a683b656a4e68",
              "IPY_MODEL_1278d8568f3143149f2b00297e6486a6",
              "IPY_MODEL_a50da5732996437ca3142908b2ea5676"
            ],
            "layout": "IPY_MODEL_e0a37f85ab184fe892c636f0ba108285"
          }
        },
        "9832acb4be7446f190f67b860abc01d9": {
          "model_module": "@jupyter-widgets/controls",
          "model_name": "DropdownModel",
          "model_module_version": "1.5.0",
          "state": {
            "_dom_classes": [],
            "_model_module": "@jupyter-widgets/controls",
            "_model_module_version": "1.5.0",
            "_model_name": "DropdownModel",
            "_options_labels": [
              "None",
              "DummyClassifier()",
              "Perceptron()",
              "DecisionTreeClassifier()",
              "KNeighborsClassifier()",
              "SVC()"
            ],
            "_view_count": null,
            "_view_module": "@jupyter-widgets/controls",
            "_view_module_version": "1.5.0",
            "_view_name": "DropdownView",
            "description": "base_estimator",
            "description_tooltip": null,
            "disabled": false,
            "index": 3,
            "layout": "IPY_MODEL_16b3b47df8fe498caa3e6d0226dab182",
            "style": "IPY_MODEL_0867a9d189a04317b535852485d9b2ea"
          }
        },
        "e23f045eae4544099d1a683b656a4e68": {
          "model_module": "@jupyter-widgets/controls",
          "model_name": "IntSliderModel",
          "model_module_version": "1.5.0",
          "state": {
            "_dom_classes": [],
            "_model_module": "@jupyter-widgets/controls",
            "_model_module_version": "1.5.0",
            "_model_name": "IntSliderModel",
            "_view_count": null,
            "_view_module": "@jupyter-widgets/controls",
            "_view_module_version": "1.5.0",
            "_view_name": "IntSliderView",
            "continuous_update": true,
            "description": "n_estimators",
            "description_tooltip": null,
            "disabled": false,
            "layout": "IPY_MODEL_a39b6e9745e14a74bfd328d48ba21a05",
            "max": 50,
            "min": 1,
            "orientation": "horizontal",
            "readout": true,
            "readout_format": "d",
            "step": 1,
            "style": "IPY_MODEL_fe8f81c22bf2429caa01b3c7300a7fc3",
            "value": 10
          }
        },
        "1278d8568f3143149f2b00297e6486a6": {
          "model_module": "@jupyter-widgets/controls",
          "model_name": "DropdownModel",
          "model_module_version": "1.5.0",
          "state": {
            "_dom_classes": [],
            "_model_module": "@jupyter-widgets/controls",
            "_model_module_version": "1.5.0",
            "_model_name": "DropdownModel",
            "_options_labels": [
              "True",
              "False"
            ],
            "_view_count": null,
            "_view_module": "@jupyter-widgets/controls",
            "_view_module_version": "1.5.0",
            "_view_name": "DropdownView",
            "description": "bootstrap",
            "description_tooltip": null,
            "disabled": false,
            "index": 0,
            "layout": "IPY_MODEL_f7e2181f945f454c96187a39a594007c",
            "style": "IPY_MODEL_245b7c98989248f2a8e786f6fdc2bf09"
          }
        },
        "a50da5732996437ca3142908b2ea5676": {
          "model_module": "@jupyter-widgets/output",
          "model_name": "OutputModel",
          "model_module_version": "1.0.0",
          "state": {
            "_dom_classes": [],
            "_model_module": "@jupyter-widgets/output",
            "_model_module_version": "1.0.0",
            "_model_name": "OutputModel",
            "_view_count": null,
            "_view_module": "@jupyter-widgets/output",
            "_view_module_version": "1.0.0",
            "_view_name": "OutputView",
            "layout": "IPY_MODEL_9e03241971e348288afeacc1650b9169",
            "msg_id": "",
            "outputs": [
              {
                "output_type": "stream",
                "name": "stdout",
                "text": [
                  "training started\n"
                ]
              },
              {
                "output_type": "stream",
                "name": "stdout",
                "text": [
                  "training started\n",
                  "Classification Report:\n",
                  "              precision    recall  f1-score   support\n",
                  "\n",
                  "           1     0.9079    0.6970    0.7886        99\n",
                  "           0     0.9492    0.9877    0.9681       568\n",
                  "\n",
                  "    accuracy                         0.9445       667\n",
                  "   macro avg     0.9286    0.8423    0.8783       667\n",
                  "weighted avg     0.9431    0.9445    0.9414       667\n",
                  "\n"
                ]
              },
              {
                "output_type": "display_data",
                "data": {
                  "text/plain": "<Figure size 432x288 with 2 Axes>",
                  "image/png": "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\n"
                },
                "metadata": {
                  "needs_background": "light"
                }
              }
            ]
          }
        },
        "e0a37f85ab184fe892c636f0ba108285": {
          "model_module": "@jupyter-widgets/base",
          "model_name": "LayoutModel",
          "model_module_version": "1.2.0",
          "state": {
            "_model_module": "@jupyter-widgets/base",
            "_model_module_version": "1.2.0",
            "_model_name": "LayoutModel",
            "_view_count": null,
            "_view_module": "@jupyter-widgets/base",
            "_view_module_version": "1.2.0",
            "_view_name": "LayoutView",
            "align_content": null,
            "align_items": null,
            "align_self": null,
            "border": null,
            "bottom": null,
            "display": null,
            "flex": null,
            "flex_flow": null,
            "grid_area": null,
            "grid_auto_columns": null,
            "grid_auto_flow": null,
            "grid_auto_rows": null,
            "grid_column": null,
            "grid_gap": null,
            "grid_row": null,
            "grid_template_areas": null,
            "grid_template_columns": null,
            "grid_template_rows": null,
            "height": null,
            "justify_content": null,
            "justify_items": null,
            "left": null,
            "margin": null,
            "max_height": null,
            "max_width": null,
            "min_height": null,
            "min_width": null,
            "object_fit": null,
            "object_position": null,
            "order": null,
            "overflow": null,
            "overflow_x": null,
            "overflow_y": null,
            "padding": null,
            "right": null,
            "top": null,
            "visibility": null,
            "width": null
          }
        },
        "16b3b47df8fe498caa3e6d0226dab182": {
          "model_module": "@jupyter-widgets/base",
          "model_name": "LayoutModel",
          "model_module_version": "1.2.0",
          "state": {
            "_model_module": "@jupyter-widgets/base",
            "_model_module_version": "1.2.0",
            "_model_name": "LayoutModel",
            "_view_count": null,
            "_view_module": "@jupyter-widgets/base",
            "_view_module_version": "1.2.0",
            "_view_name": "LayoutView",
            "align_content": null,
            "align_items": null,
            "align_self": null,
            "border": null,
            "bottom": null,
            "display": null,
            "flex": null,
            "flex_flow": null,
            "grid_area": null,
            "grid_auto_columns": null,
            "grid_auto_flow": null,
            "grid_auto_rows": null,
            "grid_column": null,
            "grid_gap": null,
            "grid_row": null,
            "grid_template_areas": null,
            "grid_template_columns": null,
            "grid_template_rows": null,
            "height": null,
            "justify_content": null,
            "justify_items": null,
            "left": null,
            "margin": null,
            "max_height": null,
            "max_width": null,
            "min_height": null,
            "min_width": null,
            "object_fit": null,
            "object_position": null,
            "order": null,
            "overflow": null,
            "overflow_x": null,
            "overflow_y": null,
            "padding": null,
            "right": null,
            "top": null,
            "visibility": null,
            "width": null
          }
        },
        "0867a9d189a04317b535852485d9b2ea": {
          "model_module": "@jupyter-widgets/controls",
          "model_name": "DescriptionStyleModel",
          "model_module_version": "1.5.0",
          "state": {
            "_model_module": "@jupyter-widgets/controls",
            "_model_module_version": "1.5.0",
            "_model_name": "DescriptionStyleModel",
            "_view_count": null,
            "_view_module": "@jupyter-widgets/base",
            "_view_module_version": "1.2.0",
            "_view_name": "StyleView",
            "description_width": ""
          }
        },
        "a39b6e9745e14a74bfd328d48ba21a05": {
          "model_module": "@jupyter-widgets/base",
          "model_name": "LayoutModel",
          "model_module_version": "1.2.0",
          "state": {
            "_model_module": "@jupyter-widgets/base",
            "_model_module_version": "1.2.0",
            "_model_name": "LayoutModel",
            "_view_count": null,
            "_view_module": "@jupyter-widgets/base",
            "_view_module_version": "1.2.0",
            "_view_name": "LayoutView",
            "align_content": null,
            "align_items": null,
            "align_self": null,
            "border": null,
            "bottom": null,
            "display": null,
            "flex": null,
            "flex_flow": null,
            "grid_area": null,
            "grid_auto_columns": null,
            "grid_auto_flow": null,
            "grid_auto_rows": null,
            "grid_column": null,
            "grid_gap": null,
            "grid_row": null,
            "grid_template_areas": null,
            "grid_template_columns": null,
            "grid_template_rows": null,
            "height": null,
            "justify_content": null,
            "justify_items": null,
            "left": null,
            "margin": null,
            "max_height": null,
            "max_width": null,
            "min_height": null,
            "min_width": null,
            "object_fit": null,
            "object_position": null,
            "order": null,
            "overflow": null,
            "overflow_x": null,
            "overflow_y": null,
            "padding": null,
            "right": null,
            "top": null,
            "visibility": null,
            "width": null
          }
        },
        "fe8f81c22bf2429caa01b3c7300a7fc3": {
          "model_module": "@jupyter-widgets/controls",
          "model_name": "SliderStyleModel",
          "model_module_version": "1.5.0",
          "state": {
            "_model_module": "@jupyter-widgets/controls",
            "_model_module_version": "1.5.0",
            "_model_name": "SliderStyleModel",
            "_view_count": null,
            "_view_module": "@jupyter-widgets/base",
            "_view_module_version": "1.2.0",
            "_view_name": "StyleView",
            "description_width": "",
            "handle_color": null
          }
        },
        "f7e2181f945f454c96187a39a594007c": {
          "model_module": "@jupyter-widgets/base",
          "model_name": "LayoutModel",
          "model_module_version": "1.2.0",
          "state": {
            "_model_module": "@jupyter-widgets/base",
            "_model_module_version": "1.2.0",
            "_model_name": "LayoutModel",
            "_view_count": null,
            "_view_module": "@jupyter-widgets/base",
            "_view_module_version": "1.2.0",
            "_view_name": "LayoutView",
            "align_content": null,
            "align_items": null,
            "align_self": null,
            "border": null,
            "bottom": null,
            "display": null,
            "flex": null,
            "flex_flow": null,
            "grid_area": null,
            "grid_auto_columns": null,
            "grid_auto_flow": null,
            "grid_auto_rows": null,
            "grid_column": null,
            "grid_gap": null,
            "grid_row": null,
            "grid_template_areas": null,
            "grid_template_columns": null,
            "grid_template_rows": null,
            "height": null,
            "justify_content": null,
            "justify_items": null,
            "left": null,
            "margin": null,
            "max_height": null,
            "max_width": null,
            "min_height": null,
            "min_width": null,
            "object_fit": null,
            "object_position": null,
            "order": null,
            "overflow": null,
            "overflow_x": null,
            "overflow_y": null,
            "padding": null,
            "right": null,
            "top": null,
            "visibility": null,
            "width": null
          }
        },
        "245b7c98989248f2a8e786f6fdc2bf09": {
          "model_module": "@jupyter-widgets/controls",
          "model_name": "DescriptionStyleModel",
          "model_module_version": "1.5.0",
          "state": {
            "_model_module": "@jupyter-widgets/controls",
            "_model_module_version": "1.5.0",
            "_model_name": "DescriptionStyleModel",
            "_view_count": null,
            "_view_module": "@jupyter-widgets/base",
            "_view_module_version": "1.2.0",
            "_view_name": "StyleView",
            "description_width": ""
          }
        },
        "9e03241971e348288afeacc1650b9169": {
          "model_module": "@jupyter-widgets/base",
          "model_name": "LayoutModel",
          "model_module_version": "1.2.0",
          "state": {
            "_model_module": "@jupyter-widgets/base",
            "_model_module_version": "1.2.0",
            "_model_name": "LayoutModel",
            "_view_count": null,
            "_view_module": "@jupyter-widgets/base",
            "_view_module_version": "1.2.0",
            "_view_name": "LayoutView",
            "align_content": null,
            "align_items": null,
            "align_self": null,
            "border": null,
            "bottom": null,
            "display": null,
            "flex": null,
            "flex_flow": null,
            "grid_area": null,
            "grid_auto_columns": null,
            "grid_auto_flow": null,
            "grid_auto_rows": null,
            "grid_column": null,
            "grid_gap": null,
            "grid_row": null,
            "grid_template_areas": null,
            "grid_template_columns": null,
            "grid_template_rows": null,
            "height": null,
            "justify_content": null,
            "justify_items": null,
            "left": null,
            "margin": null,
            "max_height": null,
            "max_width": null,
            "min_height": null,
            "min_width": null,
            "object_fit": null,
            "object_position": null,
            "order": null,
            "overflow": null,
            "overflow_x": null,
            "overflow_y": null,
            "padding": null,
            "right": null,
            "top": null,
            "visibility": null,
            "width": null
          }
        },
        "5601f6e20e2248449e0ca759ce68206f": {
          "model_module": "@jupyter-widgets/controls",
          "model_name": "VBoxModel",
          "model_module_version": "1.5.0",
          "state": {
            "_dom_classes": [
              "widget-interact"
            ],
            "_model_module": "@jupyter-widgets/controls",
            "_model_module_version": "1.5.0",
            "_model_name": "VBoxModel",
            "_view_count": null,
            "_view_module": "@jupyter-widgets/controls",
            "_view_module_version": "1.5.0",
            "_view_name": "VBoxView",
            "box_style": "",
            "children": [
              "IPY_MODEL_14aea58d866b4ed3835f4ee054a07318",
              "IPY_MODEL_9da80e02696a408a834060ddb7632bfa",
              "IPY_MODEL_eb50791af5c048518812c69d394fa2d9",
              "IPY_MODEL_cb5b45eebdf9408e9e23c5b90bc3b1d5",
              "IPY_MODEL_ac915c09f3a642e58bf41ea00abded8f",
              "IPY_MODEL_41131f4ae27046a1a21e9b4fd12c3407",
              "IPY_MODEL_cd11a3ba36f1481fbda6fdab5dbcefd5",
              "IPY_MODEL_7e63f6128444499881df290145bbc53b",
              "IPY_MODEL_ff846b2414924a218fda574229100ef6",
              "IPY_MODEL_97e62f2c94c94336ae89f17f79be99b8",
              "IPY_MODEL_586a52692c234f9aa8e92da6a76293ad",
              "IPY_MODEL_1e52b62eaaa14822bbb10852bcf79eac",
              "IPY_MODEL_82bd629a06d9440495a6e7055277c83a",
              "IPY_MODEL_6b55204586b446ffa59c7226f9924adf",
              "IPY_MODEL_f78e04ffe9ec4b138bd22e5cbbf4dc28",
              "IPY_MODEL_e87db9c311e14cf082db7356ae57496c",
              "IPY_MODEL_1e187666e0d24b82a16c79a6daeec7c4",
              "IPY_MODEL_a89e0370a8b64daab2a8ed94d5e25623",
              "IPY_MODEL_dec0b5c6b9e9437ca43ee2adec55a518",
              "IPY_MODEL_eef176c8378e4d309c9eaed413a19310"
            ],
            "layout": "IPY_MODEL_526b0c6bcdc04bfa980240a4282a8044"
          }
        },
        "14aea58d866b4ed3835f4ee054a07318": {
          "model_module": "@jupyter-widgets/controls",
          "model_name": "CheckboxModel",
          "model_module_version": "1.5.0",
          "state": {
            "_dom_classes": [],
            "_model_module": "@jupyter-widgets/controls",
            "_model_module_version": "1.5.0",
            "_model_name": "CheckboxModel",
            "_view_count": null,
            "_view_module": "@jupyter-widgets/controls",
            "_view_module_version": "1.5.0",
            "_view_name": "CheckboxView",
            "description": "State",
            "description_tooltip": null,
            "disabled": false,
            "indent": true,
            "layout": "IPY_MODEL_02ff7874aab44e44827730cd6f365180",
            "style": "IPY_MODEL_8d1927defd044c2ba0f0a4acb3c1a97c",
            "value": true
          }
        },
        "9da80e02696a408a834060ddb7632bfa": {
          "model_module": "@jupyter-widgets/controls",
          "model_name": "CheckboxModel",
          "model_module_version": "1.5.0",
          "state": {
            "_dom_classes": [],
            "_model_module": "@jupyter-widgets/controls",
            "_model_module_version": "1.5.0",
            "_model_name": "CheckboxModel",
            "_view_count": null,
            "_view_module": "@jupyter-widgets/controls",
            "_view_module_version": "1.5.0",
            "_view_name": "CheckboxView",
            "description": "Account length",
            "description_tooltip": null,
            "disabled": false,
            "indent": true,
            "layout": "IPY_MODEL_23ae66b9157e42609a607bb3cc8b1f69",
            "style": "IPY_MODEL_8a428505635f4149b1b35622b852dcda",
            "value": true
          }
        },
        "eb50791af5c048518812c69d394fa2d9": {
          "model_module": "@jupyter-widgets/controls",
          "model_name": "CheckboxModel",
          "model_module_version": "1.5.0",
          "state": {
            "_dom_classes": [],
            "_model_module": "@jupyter-widgets/controls",
            "_model_module_version": "1.5.0",
            "_model_name": "CheckboxModel",
            "_view_count": null,
            "_view_module": "@jupyter-widgets/controls",
            "_view_module_version": "1.5.0",
            "_view_name": "CheckboxView",
            "description": "Area code",
            "description_tooltip": null,
            "disabled": false,
            "indent": true,
            "layout": "IPY_MODEL_f8a812b3808f4d978ae0c6684b8fd9fa",
            "style": "IPY_MODEL_3298b1d3565149fcab598e4925be7fe0",
            "value": true
          }
        },
        "cb5b45eebdf9408e9e23c5b90bc3b1d5": {
          "model_module": "@jupyter-widgets/controls",
          "model_name": "CheckboxModel",
          "model_module_version": "1.5.0",
          "state": {
            "_dom_classes": [],
            "_model_module": "@jupyter-widgets/controls",
            "_model_module_version": "1.5.0",
            "_model_name": "CheckboxModel",
            "_view_count": null,
            "_view_module": "@jupyter-widgets/controls",
            "_view_module_version": "1.5.0",
            "_view_name": "CheckboxView",
            "description": "International plan",
            "description_tooltip": null,
            "disabled": false,
            "indent": true,
            "layout": "IPY_MODEL_edb19831b4db451fa8c2d32a0b207927",
            "style": "IPY_MODEL_b0962ab8fe02472b8289f430c6fc8ae7",
            "value": true
          }
        },
        "ac915c09f3a642e58bf41ea00abded8f": {
          "model_module": "@jupyter-widgets/controls",
          "model_name": "CheckboxModel",
          "model_module_version": "1.5.0",
          "state": {
            "_dom_classes": [],
            "_model_module": "@jupyter-widgets/controls",
            "_model_module_version": "1.5.0",
            "_model_name": "CheckboxModel",
            "_view_count": null,
            "_view_module": "@jupyter-widgets/controls",
            "_view_module_version": "1.5.0",
            "_view_name": "CheckboxView",
            "description": "Voice mail plan",
            "description_tooltip": null,
            "disabled": false,
            "indent": true,
            "layout": "IPY_MODEL_b41382824d0f4ce4b19fbd90eca5c960",
            "style": "IPY_MODEL_15333198e72f44658770db39aa502263",
            "value": false
          }
        },
        "41131f4ae27046a1a21e9b4fd12c3407": {
          "model_module": "@jupyter-widgets/controls",
          "model_name": "CheckboxModel",
          "model_module_version": "1.5.0",
          "state": {
            "_dom_classes": [],
            "_model_module": "@jupyter-widgets/controls",
            "_model_module_version": "1.5.0",
            "_model_name": "CheckboxModel",
            "_view_count": null,
            "_view_module": "@jupyter-widgets/controls",
            "_view_module_version": "1.5.0",
            "_view_name": "CheckboxView",
            "description": "Number vmail messages",
            "description_tooltip": null,
            "disabled": false,
            "indent": true,
            "layout": "IPY_MODEL_545b62acfbfd44769488499dd2d06f35",
            "style": "IPY_MODEL_f3a5453e91a3486a9c935a83679c5066",
            "value": true
          }
        },
        "cd11a3ba36f1481fbda6fdab5dbcefd5": {
          "model_module": "@jupyter-widgets/controls",
          "model_name": "CheckboxModel",
          "model_module_version": "1.5.0",
          "state": {
            "_dom_classes": [],
            "_model_module": "@jupyter-widgets/controls",
            "_model_module_version": "1.5.0",
            "_model_name": "CheckboxModel",
            "_view_count": null,
            "_view_module": "@jupyter-widgets/controls",
            "_view_module_version": "1.5.0",
            "_view_name": "CheckboxView",
            "description": "Total day minutes",
            "description_tooltip": null,
            "disabled": false,
            "indent": true,
            "layout": "IPY_MODEL_f7d047d6da0e42ccaef896efa78a657e",
            "style": "IPY_MODEL_2a6c3be77c894a4789bdf0fd8d04f62c",
            "value": false
          }
        },
        "7e63f6128444499881df290145bbc53b": {
          "model_module": "@jupyter-widgets/controls",
          "model_name": "CheckboxModel",
          "model_module_version": "1.5.0",
          "state": {
            "_dom_classes": [],
            "_model_module": "@jupyter-widgets/controls",
            "_model_module_version": "1.5.0",
            "_model_name": "CheckboxModel",
            "_view_count": null,
            "_view_module": "@jupyter-widgets/controls",
            "_view_module_version": "1.5.0",
            "_view_name": "CheckboxView",
            "description": "Total day calls",
            "description_tooltip": null,
            "disabled": false,
            "indent": true,
            "layout": "IPY_MODEL_a5488ebb77cc4ef9b436501a7c2d36d0",
            "style": "IPY_MODEL_a145a89ec3a04e149bff275b2713f93d",
            "value": true
          }
        },
        "ff846b2414924a218fda574229100ef6": {
          "model_module": "@jupyter-widgets/controls",
          "model_name": "CheckboxModel",
          "model_module_version": "1.5.0",
          "state": {
            "_dom_classes": [],
            "_model_module": "@jupyter-widgets/controls",
            "_model_module_version": "1.5.0",
            "_model_name": "CheckboxModel",
            "_view_count": null,
            "_view_module": "@jupyter-widgets/controls",
            "_view_module_version": "1.5.0",
            "_view_name": "CheckboxView",
            "description": "Total day charge",
            "description_tooltip": null,
            "disabled": false,
            "indent": true,
            "layout": "IPY_MODEL_1ee9eb4c168c45ffb8b26b413951f143",
            "style": "IPY_MODEL_09b34f535f044ab4960e68afc92feb44",
            "value": true
          }
        },
        "97e62f2c94c94336ae89f17f79be99b8": {
          "model_module": "@jupyter-widgets/controls",
          "model_name": "CheckboxModel",
          "model_module_version": "1.5.0",
          "state": {
            "_dom_classes": [],
            "_model_module": "@jupyter-widgets/controls",
            "_model_module_version": "1.5.0",
            "_model_name": "CheckboxModel",
            "_view_count": null,
            "_view_module": "@jupyter-widgets/controls",
            "_view_module_version": "1.5.0",
            "_view_name": "CheckboxView",
            "description": "Total eve minutes",
            "description_tooltip": null,
            "disabled": false,
            "indent": true,
            "layout": "IPY_MODEL_975a025b9893456c9de92f60025bfa47",
            "style": "IPY_MODEL_d193741dd29c415395787b39207f97d4",
            "value": true
          }
        },
        "586a52692c234f9aa8e92da6a76293ad": {
          "model_module": "@jupyter-widgets/controls",
          "model_name": "CheckboxModel",
          "model_module_version": "1.5.0",
          "state": {
            "_dom_classes": [],
            "_model_module": "@jupyter-widgets/controls",
            "_model_module_version": "1.5.0",
            "_model_name": "CheckboxModel",
            "_view_count": null,
            "_view_module": "@jupyter-widgets/controls",
            "_view_module_version": "1.5.0",
            "_view_name": "CheckboxView",
            "description": "Total eve calls",
            "description_tooltip": null,
            "disabled": false,
            "indent": true,
            "layout": "IPY_MODEL_47122fbd2c1948efaf7574c506455976",
            "style": "IPY_MODEL_619a656f437a462dab5debe31389536a",
            "value": true
          }
        },
        "1e52b62eaaa14822bbb10852bcf79eac": {
          "model_module": "@jupyter-widgets/controls",
          "model_name": "CheckboxModel",
          "model_module_version": "1.5.0",
          "state": {
            "_dom_classes": [],
            "_model_module": "@jupyter-widgets/controls",
            "_model_module_version": "1.5.0",
            "_model_name": "CheckboxModel",
            "_view_count": null,
            "_view_module": "@jupyter-widgets/controls",
            "_view_module_version": "1.5.0",
            "_view_name": "CheckboxView",
            "description": "Total eve charge",
            "description_tooltip": null,
            "disabled": false,
            "indent": true,
            "layout": "IPY_MODEL_0a371bad49d54510998f9e3defd3b4c6",
            "style": "IPY_MODEL_18e7c1de781e44ebab9c6f2a54224c7e",
            "value": false
          }
        },
        "82bd629a06d9440495a6e7055277c83a": {
          "model_module": "@jupyter-widgets/controls",
          "model_name": "CheckboxModel",
          "model_module_version": "1.5.0",
          "state": {
            "_dom_classes": [],
            "_model_module": "@jupyter-widgets/controls",
            "_model_module_version": "1.5.0",
            "_model_name": "CheckboxModel",
            "_view_count": null,
            "_view_module": "@jupyter-widgets/controls",
            "_view_module_version": "1.5.0",
            "_view_name": "CheckboxView",
            "description": "Total night minutes",
            "description_tooltip": null,
            "disabled": false,
            "indent": true,
            "layout": "IPY_MODEL_cf8fb05983164b6c9f2d5019bea58ecc",
            "style": "IPY_MODEL_3ed25c442cc54f5a80136558d4a77b79",
            "value": false
          }
        },
        "6b55204586b446ffa59c7226f9924adf": {
          "model_module": "@jupyter-widgets/controls",
          "model_name": "CheckboxModel",
          "model_module_version": "1.5.0",
          "state": {
            "_dom_classes": [],
            "_model_module": "@jupyter-widgets/controls",
            "_model_module_version": "1.5.0",
            "_model_name": "CheckboxModel",
            "_view_count": null,
            "_view_module": "@jupyter-widgets/controls",
            "_view_module_version": "1.5.0",
            "_view_name": "CheckboxView",
            "description": "Total night calls",
            "description_tooltip": null,
            "disabled": false,
            "indent": true,
            "layout": "IPY_MODEL_3a6cae064c8947efb383adff291f164b",
            "style": "IPY_MODEL_d20b43b0ff254b5e80b87bd13aa4a30d",
            "value": true
          }
        },
        "f78e04ffe9ec4b138bd22e5cbbf4dc28": {
          "model_module": "@jupyter-widgets/controls",
          "model_name": "CheckboxModel",
          "model_module_version": "1.5.0",
          "state": {
            "_dom_classes": [],
            "_model_module": "@jupyter-widgets/controls",
            "_model_module_version": "1.5.0",
            "_model_name": "CheckboxModel",
            "_view_count": null,
            "_view_module": "@jupyter-widgets/controls",
            "_view_module_version": "1.5.0",
            "_view_name": "CheckboxView",
            "description": "Total night charge",
            "description_tooltip": null,
            "disabled": false,
            "indent": true,
            "layout": "IPY_MODEL_cf4c3469d24f4addb1ae9d268ef27ac2",
            "style": "IPY_MODEL_64db7fc7092c46ee9eb2f06e51633ede",
            "value": true
          }
        },
        "e87db9c311e14cf082db7356ae57496c": {
          "model_module": "@jupyter-widgets/controls",
          "model_name": "CheckboxModel",
          "model_module_version": "1.5.0",
          "state": {
            "_dom_classes": [],
            "_model_module": "@jupyter-widgets/controls",
            "_model_module_version": "1.5.0",
            "_model_name": "CheckboxModel",
            "_view_count": null,
            "_view_module": "@jupyter-widgets/controls",
            "_view_module_version": "1.5.0",
            "_view_name": "CheckboxView",
            "description": "Total intl minutes",
            "description_tooltip": null,
            "disabled": false,
            "indent": true,
            "layout": "IPY_MODEL_49f04523b5dd4a91b9b3b18948f52353",
            "style": "IPY_MODEL_4f39e41bbdb14764b86925c8883ecfc1",
            "value": true
          }
        },
        "1e187666e0d24b82a16c79a6daeec7c4": {
          "model_module": "@jupyter-widgets/controls",
          "model_name": "CheckboxModel",
          "model_module_version": "1.5.0",
          "state": {
            "_dom_classes": [],
            "_model_module": "@jupyter-widgets/controls",
            "_model_module_version": "1.5.0",
            "_model_name": "CheckboxModel",
            "_view_count": null,
            "_view_module": "@jupyter-widgets/controls",
            "_view_module_version": "1.5.0",
            "_view_name": "CheckboxView",
            "description": "Total intl calls",
            "description_tooltip": null,
            "disabled": false,
            "indent": true,
            "layout": "IPY_MODEL_2b099cc9dfaa44acad70180133ea486e",
            "style": "IPY_MODEL_c42c9685fdf449478bcf566caf288f89",
            "value": true
          }
        },
        "a89e0370a8b64daab2a8ed94d5e25623": {
          "model_module": "@jupyter-widgets/controls",
          "model_name": "CheckboxModel",
          "model_module_version": "1.5.0",
          "state": {
            "_dom_classes": [],
            "_model_module": "@jupyter-widgets/controls",
            "_model_module_version": "1.5.0",
            "_model_name": "CheckboxModel",
            "_view_count": null,
            "_view_module": "@jupyter-widgets/controls",
            "_view_module_version": "1.5.0",
            "_view_name": "CheckboxView",
            "description": "Total intl charge",
            "description_tooltip": null,
            "disabled": false,
            "indent": true,
            "layout": "IPY_MODEL_6e1e2368bec74296ab91e1e699041dd7",
            "style": "IPY_MODEL_591cd7adbd484be7aedfa0789260e318",
            "value": false
          }
        },
        "dec0b5c6b9e9437ca43ee2adec55a518": {
          "model_module": "@jupyter-widgets/controls",
          "model_name": "CheckboxModel",
          "model_module_version": "1.5.0",
          "state": {
            "_dom_classes": [],
            "_model_module": "@jupyter-widgets/controls",
            "_model_module_version": "1.5.0",
            "_model_name": "CheckboxModel",
            "_view_count": null,
            "_view_module": "@jupyter-widgets/controls",
            "_view_module_version": "1.5.0",
            "_view_name": "CheckboxView",
            "description": "Customer service calls",
            "description_tooltip": null,
            "disabled": false,
            "indent": true,
            "layout": "IPY_MODEL_3f18fc1d6709469fac5a5cf0693859c9",
            "style": "IPY_MODEL_24a6eed2c798473cb6ff846d54ca0f29",
            "value": true
          }
        },
        "eef176c8378e4d309c9eaed413a19310": {
          "model_module": "@jupyter-widgets/output",
          "model_name": "OutputModel",
          "model_module_version": "1.0.0",
          "state": {
            "_dom_classes": [],
            "_model_module": "@jupyter-widgets/output",
            "_model_module_version": "1.0.0",
            "_model_name": "OutputModel",
            "_view_count": null,
            "_view_module": "@jupyter-widgets/output",
            "_view_module_version": "1.0.0",
            "_view_name": "OutputView",
            "layout": "IPY_MODEL_708f2fa33d774421a8e9a58b8b05132d",
            "msg_id": "",
            "outputs": [
              {
                "output_type": "stream",
                "name": "stdout",
                "text": [
                  "                  Variable       VIF\n",
                  "0                    State  1.003220\n",
                  "1           Account length  1.003379\n",
                  "2                Area code  1.005230\n",
                  "3       International plan  1.010009\n",
                  "4    Number vmail messages  1.001827\n",
                  "5          Total day calls  1.003883\n",
                  "6         Total day charge  1.003826\n",
                  "7        Total eve minutes  1.002016\n",
                  "8          Total eve calls  1.001646\n",
                  "9        Total night calls  1.002142\n",
                  "10      Total night charge  1.002899\n",
                  "11      Total intl minutes  1.004836\n",
                  "12        Total intl calls  1.003431\n",
                  "13  Customer service calls  1.003533\n"
                ]
              },
              {
                "output_type": "stream",
                "name": "stderr",
                "text": [
                  "/usr/local/lib/python3.7/dist-packages/ipykernel_launcher.py:4: SettingWithCopyWarning: \n",
                  "A value is trying to be set on a copy of a slice from a DataFrame.\n",
                  "Try using .loc[row_indexer,col_indexer] = value instead\n",
                  "\n",
                  "See the caveats in the documentation: https://pandas.pydata.org/pandas-docs/stable/user_guide/indexing.html#returning-a-view-versus-a-copy\n",
                  "  after removing the cwd from sys.path.\n"
                ]
              }
            ]
          }
        },
        "526b0c6bcdc04bfa980240a4282a8044": {
          "model_module": "@jupyter-widgets/base",
          "model_name": "LayoutModel",
          "model_module_version": "1.2.0",
          "state": {
            "_model_module": "@jupyter-widgets/base",
            "_model_module_version": "1.2.0",
            "_model_name": "LayoutModel",
            "_view_count": null,
            "_view_module": "@jupyter-widgets/base",
            "_view_module_version": "1.2.0",
            "_view_name": "LayoutView",
            "align_content": null,
            "align_items": null,
            "align_self": null,
            "border": null,
            "bottom": null,
            "display": null,
            "flex": null,
            "flex_flow": null,
            "grid_area": null,
            "grid_auto_columns": null,
            "grid_auto_flow": null,
            "grid_auto_rows": null,
            "grid_column": null,
            "grid_gap": null,
            "grid_row": null,
            "grid_template_areas": null,
            "grid_template_columns": null,
            "grid_template_rows": null,
            "height": null,
            "justify_content": null,
            "justify_items": null,
            "left": null,
            "margin": null,
            "max_height": null,
            "max_width": null,
            "min_height": null,
            "min_width": null,
            "object_fit": null,
            "object_position": null,
            "order": null,
            "overflow": null,
            "overflow_x": null,
            "overflow_y": null,
            "padding": null,
            "right": null,
            "top": null,
            "visibility": null,
            "width": null
          }
        },
        "02ff7874aab44e44827730cd6f365180": {
          "model_module": "@jupyter-widgets/base",
          "model_name": "LayoutModel",
          "model_module_version": "1.2.0",
          "state": {
            "_model_module": "@jupyter-widgets/base",
            "_model_module_version": "1.2.0",
            "_model_name": "LayoutModel",
            "_view_count": null,
            "_view_module": "@jupyter-widgets/base",
            "_view_module_version": "1.2.0",
            "_view_name": "LayoutView",
            "align_content": null,
            "align_items": null,
            "align_self": null,
            "border": null,
            "bottom": null,
            "display": null,
            "flex": null,
            "flex_flow": null,
            "grid_area": null,
            "grid_auto_columns": null,
            "grid_auto_flow": null,
            "grid_auto_rows": null,
            "grid_column": null,
            "grid_gap": null,
            "grid_row": null,
            "grid_template_areas": null,
            "grid_template_columns": null,
            "grid_template_rows": null,
            "height": null,
            "justify_content": null,
            "justify_items": null,
            "left": null,
            "margin": null,
            "max_height": null,
            "max_width": null,
            "min_height": null,
            "min_width": null,
            "object_fit": null,
            "object_position": null,
            "order": null,
            "overflow": null,
            "overflow_x": null,
            "overflow_y": null,
            "padding": null,
            "right": null,
            "top": null,
            "visibility": null,
            "width": null
          }
        },
        "8d1927defd044c2ba0f0a4acb3c1a97c": {
          "model_module": "@jupyter-widgets/controls",
          "model_name": "DescriptionStyleModel",
          "model_module_version": "1.5.0",
          "state": {
            "_model_module": "@jupyter-widgets/controls",
            "_model_module_version": "1.5.0",
            "_model_name": "DescriptionStyleModel",
            "_view_count": null,
            "_view_module": "@jupyter-widgets/base",
            "_view_module_version": "1.2.0",
            "_view_name": "StyleView",
            "description_width": ""
          }
        },
        "23ae66b9157e42609a607bb3cc8b1f69": {
          "model_module": "@jupyter-widgets/base",
          "model_name": "LayoutModel",
          "model_module_version": "1.2.0",
          "state": {
            "_model_module": "@jupyter-widgets/base",
            "_model_module_version": "1.2.0",
            "_model_name": "LayoutModel",
            "_view_count": null,
            "_view_module": "@jupyter-widgets/base",
            "_view_module_version": "1.2.0",
            "_view_name": "LayoutView",
            "align_content": null,
            "align_items": null,
            "align_self": null,
            "border": null,
            "bottom": null,
            "display": null,
            "flex": null,
            "flex_flow": null,
            "grid_area": null,
            "grid_auto_columns": null,
            "grid_auto_flow": null,
            "grid_auto_rows": null,
            "grid_column": null,
            "grid_gap": null,
            "grid_row": null,
            "grid_template_areas": null,
            "grid_template_columns": null,
            "grid_template_rows": null,
            "height": null,
            "justify_content": null,
            "justify_items": null,
            "left": null,
            "margin": null,
            "max_height": null,
            "max_width": null,
            "min_height": null,
            "min_width": null,
            "object_fit": null,
            "object_position": null,
            "order": null,
            "overflow": null,
            "overflow_x": null,
            "overflow_y": null,
            "padding": null,
            "right": null,
            "top": null,
            "visibility": null,
            "width": null
          }
        },
        "8a428505635f4149b1b35622b852dcda": {
          "model_module": "@jupyter-widgets/controls",
          "model_name": "DescriptionStyleModel",
          "model_module_version": "1.5.0",
          "state": {
            "_model_module": "@jupyter-widgets/controls",
            "_model_module_version": "1.5.0",
            "_model_name": "DescriptionStyleModel",
            "_view_count": null,
            "_view_module": "@jupyter-widgets/base",
            "_view_module_version": "1.2.0",
            "_view_name": "StyleView",
            "description_width": ""
          }
        },
        "f8a812b3808f4d978ae0c6684b8fd9fa": {
          "model_module": "@jupyter-widgets/base",
          "model_name": "LayoutModel",
          "model_module_version": "1.2.0",
          "state": {
            "_model_module": "@jupyter-widgets/base",
            "_model_module_version": "1.2.0",
            "_model_name": "LayoutModel",
            "_view_count": null,
            "_view_module": "@jupyter-widgets/base",
            "_view_module_version": "1.2.0",
            "_view_name": "LayoutView",
            "align_content": null,
            "align_items": null,
            "align_self": null,
            "border": null,
            "bottom": null,
            "display": null,
            "flex": null,
            "flex_flow": null,
            "grid_area": null,
            "grid_auto_columns": null,
            "grid_auto_flow": null,
            "grid_auto_rows": null,
            "grid_column": null,
            "grid_gap": null,
            "grid_row": null,
            "grid_template_areas": null,
            "grid_template_columns": null,
            "grid_template_rows": null,
            "height": null,
            "justify_content": null,
            "justify_items": null,
            "left": null,
            "margin": null,
            "max_height": null,
            "max_width": null,
            "min_height": null,
            "min_width": null,
            "object_fit": null,
            "object_position": null,
            "order": null,
            "overflow": null,
            "overflow_x": null,
            "overflow_y": null,
            "padding": null,
            "right": null,
            "top": null,
            "visibility": null,
            "width": null
          }
        },
        "3298b1d3565149fcab598e4925be7fe0": {
          "model_module": "@jupyter-widgets/controls",
          "model_name": "DescriptionStyleModel",
          "model_module_version": "1.5.0",
          "state": {
            "_model_module": "@jupyter-widgets/controls",
            "_model_module_version": "1.5.0",
            "_model_name": "DescriptionStyleModel",
            "_view_count": null,
            "_view_module": "@jupyter-widgets/base",
            "_view_module_version": "1.2.0",
            "_view_name": "StyleView",
            "description_width": ""
          }
        },
        "edb19831b4db451fa8c2d32a0b207927": {
          "model_module": "@jupyter-widgets/base",
          "model_name": "LayoutModel",
          "model_module_version": "1.2.0",
          "state": {
            "_model_module": "@jupyter-widgets/base",
            "_model_module_version": "1.2.0",
            "_model_name": "LayoutModel",
            "_view_count": null,
            "_view_module": "@jupyter-widgets/base",
            "_view_module_version": "1.2.0",
            "_view_name": "LayoutView",
            "align_content": null,
            "align_items": null,
            "align_self": null,
            "border": null,
            "bottom": null,
            "display": null,
            "flex": null,
            "flex_flow": null,
            "grid_area": null,
            "grid_auto_columns": null,
            "grid_auto_flow": null,
            "grid_auto_rows": null,
            "grid_column": null,
            "grid_gap": null,
            "grid_row": null,
            "grid_template_areas": null,
            "grid_template_columns": null,
            "grid_template_rows": null,
            "height": null,
            "justify_content": null,
            "justify_items": null,
            "left": null,
            "margin": null,
            "max_height": null,
            "max_width": null,
            "min_height": null,
            "min_width": null,
            "object_fit": null,
            "object_position": null,
            "order": null,
            "overflow": null,
            "overflow_x": null,
            "overflow_y": null,
            "padding": null,
            "right": null,
            "top": null,
            "visibility": null,
            "width": null
          }
        },
        "b0962ab8fe02472b8289f430c6fc8ae7": {
          "model_module": "@jupyter-widgets/controls",
          "model_name": "DescriptionStyleModel",
          "model_module_version": "1.5.0",
          "state": {
            "_model_module": "@jupyter-widgets/controls",
            "_model_module_version": "1.5.0",
            "_model_name": "DescriptionStyleModel",
            "_view_count": null,
            "_view_module": "@jupyter-widgets/base",
            "_view_module_version": "1.2.0",
            "_view_name": "StyleView",
            "description_width": ""
          }
        },
        "b41382824d0f4ce4b19fbd90eca5c960": {
          "model_module": "@jupyter-widgets/base",
          "model_name": "LayoutModel",
          "model_module_version": "1.2.0",
          "state": {
            "_model_module": "@jupyter-widgets/base",
            "_model_module_version": "1.2.0",
            "_model_name": "LayoutModel",
            "_view_count": null,
            "_view_module": "@jupyter-widgets/base",
            "_view_module_version": "1.2.0",
            "_view_name": "LayoutView",
            "align_content": null,
            "align_items": null,
            "align_self": null,
            "border": null,
            "bottom": null,
            "display": null,
            "flex": null,
            "flex_flow": null,
            "grid_area": null,
            "grid_auto_columns": null,
            "grid_auto_flow": null,
            "grid_auto_rows": null,
            "grid_column": null,
            "grid_gap": null,
            "grid_row": null,
            "grid_template_areas": null,
            "grid_template_columns": null,
            "grid_template_rows": null,
            "height": null,
            "justify_content": null,
            "justify_items": null,
            "left": null,
            "margin": null,
            "max_height": null,
            "max_width": null,
            "min_height": null,
            "min_width": null,
            "object_fit": null,
            "object_position": null,
            "order": null,
            "overflow": null,
            "overflow_x": null,
            "overflow_y": null,
            "padding": null,
            "right": null,
            "top": null,
            "visibility": null,
            "width": null
          }
        },
        "15333198e72f44658770db39aa502263": {
          "model_module": "@jupyter-widgets/controls",
          "model_name": "DescriptionStyleModel",
          "model_module_version": "1.5.0",
          "state": {
            "_model_module": "@jupyter-widgets/controls",
            "_model_module_version": "1.5.0",
            "_model_name": "DescriptionStyleModel",
            "_view_count": null,
            "_view_module": "@jupyter-widgets/base",
            "_view_module_version": "1.2.0",
            "_view_name": "StyleView",
            "description_width": ""
          }
        },
        "545b62acfbfd44769488499dd2d06f35": {
          "model_module": "@jupyter-widgets/base",
          "model_name": "LayoutModel",
          "model_module_version": "1.2.0",
          "state": {
            "_model_module": "@jupyter-widgets/base",
            "_model_module_version": "1.2.0",
            "_model_name": "LayoutModel",
            "_view_count": null,
            "_view_module": "@jupyter-widgets/base",
            "_view_module_version": "1.2.0",
            "_view_name": "LayoutView",
            "align_content": null,
            "align_items": null,
            "align_self": null,
            "border": null,
            "bottom": null,
            "display": null,
            "flex": null,
            "flex_flow": null,
            "grid_area": null,
            "grid_auto_columns": null,
            "grid_auto_flow": null,
            "grid_auto_rows": null,
            "grid_column": null,
            "grid_gap": null,
            "grid_row": null,
            "grid_template_areas": null,
            "grid_template_columns": null,
            "grid_template_rows": null,
            "height": null,
            "justify_content": null,
            "justify_items": null,
            "left": null,
            "margin": null,
            "max_height": null,
            "max_width": null,
            "min_height": null,
            "min_width": null,
            "object_fit": null,
            "object_position": null,
            "order": null,
            "overflow": null,
            "overflow_x": null,
            "overflow_y": null,
            "padding": null,
            "right": null,
            "top": null,
            "visibility": null,
            "width": null
          }
        },
        "f3a5453e91a3486a9c935a83679c5066": {
          "model_module": "@jupyter-widgets/controls",
          "model_name": "DescriptionStyleModel",
          "model_module_version": "1.5.0",
          "state": {
            "_model_module": "@jupyter-widgets/controls",
            "_model_module_version": "1.5.0",
            "_model_name": "DescriptionStyleModel",
            "_view_count": null,
            "_view_module": "@jupyter-widgets/base",
            "_view_module_version": "1.2.0",
            "_view_name": "StyleView",
            "description_width": ""
          }
        },
        "f7d047d6da0e42ccaef896efa78a657e": {
          "model_module": "@jupyter-widgets/base",
          "model_name": "LayoutModel",
          "model_module_version": "1.2.0",
          "state": {
            "_model_module": "@jupyter-widgets/base",
            "_model_module_version": "1.2.0",
            "_model_name": "LayoutModel",
            "_view_count": null,
            "_view_module": "@jupyter-widgets/base",
            "_view_module_version": "1.2.0",
            "_view_name": "LayoutView",
            "align_content": null,
            "align_items": null,
            "align_self": null,
            "border": null,
            "bottom": null,
            "display": null,
            "flex": null,
            "flex_flow": null,
            "grid_area": null,
            "grid_auto_columns": null,
            "grid_auto_flow": null,
            "grid_auto_rows": null,
            "grid_column": null,
            "grid_gap": null,
            "grid_row": null,
            "grid_template_areas": null,
            "grid_template_columns": null,
            "grid_template_rows": null,
            "height": null,
            "justify_content": null,
            "justify_items": null,
            "left": null,
            "margin": null,
            "max_height": null,
            "max_width": null,
            "min_height": null,
            "min_width": null,
            "object_fit": null,
            "object_position": null,
            "order": null,
            "overflow": null,
            "overflow_x": null,
            "overflow_y": null,
            "padding": null,
            "right": null,
            "top": null,
            "visibility": null,
            "width": null
          }
        },
        "2a6c3be77c894a4789bdf0fd8d04f62c": {
          "model_module": "@jupyter-widgets/controls",
          "model_name": "DescriptionStyleModel",
          "model_module_version": "1.5.0",
          "state": {
            "_model_module": "@jupyter-widgets/controls",
            "_model_module_version": "1.5.0",
            "_model_name": "DescriptionStyleModel",
            "_view_count": null,
            "_view_module": "@jupyter-widgets/base",
            "_view_module_version": "1.2.0",
            "_view_name": "StyleView",
            "description_width": ""
          }
        },
        "a5488ebb77cc4ef9b436501a7c2d36d0": {
          "model_module": "@jupyter-widgets/base",
          "model_name": "LayoutModel",
          "model_module_version": "1.2.0",
          "state": {
            "_model_module": "@jupyter-widgets/base",
            "_model_module_version": "1.2.0",
            "_model_name": "LayoutModel",
            "_view_count": null,
            "_view_module": "@jupyter-widgets/base",
            "_view_module_version": "1.2.0",
            "_view_name": "LayoutView",
            "align_content": null,
            "align_items": null,
            "align_self": null,
            "border": null,
            "bottom": null,
            "display": null,
            "flex": null,
            "flex_flow": null,
            "grid_area": null,
            "grid_auto_columns": null,
            "grid_auto_flow": null,
            "grid_auto_rows": null,
            "grid_column": null,
            "grid_gap": null,
            "grid_row": null,
            "grid_template_areas": null,
            "grid_template_columns": null,
            "grid_template_rows": null,
            "height": null,
            "justify_content": null,
            "justify_items": null,
            "left": null,
            "margin": null,
            "max_height": null,
            "max_width": null,
            "min_height": null,
            "min_width": null,
            "object_fit": null,
            "object_position": null,
            "order": null,
            "overflow": null,
            "overflow_x": null,
            "overflow_y": null,
            "padding": null,
            "right": null,
            "top": null,
            "visibility": null,
            "width": null
          }
        },
        "a145a89ec3a04e149bff275b2713f93d": {
          "model_module": "@jupyter-widgets/controls",
          "model_name": "DescriptionStyleModel",
          "model_module_version": "1.5.0",
          "state": {
            "_model_module": "@jupyter-widgets/controls",
            "_model_module_version": "1.5.0",
            "_model_name": "DescriptionStyleModel",
            "_view_count": null,
            "_view_module": "@jupyter-widgets/base",
            "_view_module_version": "1.2.0",
            "_view_name": "StyleView",
            "description_width": ""
          }
        },
        "1ee9eb4c168c45ffb8b26b413951f143": {
          "model_module": "@jupyter-widgets/base",
          "model_name": "LayoutModel",
          "model_module_version": "1.2.0",
          "state": {
            "_model_module": "@jupyter-widgets/base",
            "_model_module_version": "1.2.0",
            "_model_name": "LayoutModel",
            "_view_count": null,
            "_view_module": "@jupyter-widgets/base",
            "_view_module_version": "1.2.0",
            "_view_name": "LayoutView",
            "align_content": null,
            "align_items": null,
            "align_self": null,
            "border": null,
            "bottom": null,
            "display": null,
            "flex": null,
            "flex_flow": null,
            "grid_area": null,
            "grid_auto_columns": null,
            "grid_auto_flow": null,
            "grid_auto_rows": null,
            "grid_column": null,
            "grid_gap": null,
            "grid_row": null,
            "grid_template_areas": null,
            "grid_template_columns": null,
            "grid_template_rows": null,
            "height": null,
            "justify_content": null,
            "justify_items": null,
            "left": null,
            "margin": null,
            "max_height": null,
            "max_width": null,
            "min_height": null,
            "min_width": null,
            "object_fit": null,
            "object_position": null,
            "order": null,
            "overflow": null,
            "overflow_x": null,
            "overflow_y": null,
            "padding": null,
            "right": null,
            "top": null,
            "visibility": null,
            "width": null
          }
        },
        "09b34f535f044ab4960e68afc92feb44": {
          "model_module": "@jupyter-widgets/controls",
          "model_name": "DescriptionStyleModel",
          "model_module_version": "1.5.0",
          "state": {
            "_model_module": "@jupyter-widgets/controls",
            "_model_module_version": "1.5.0",
            "_model_name": "DescriptionStyleModel",
            "_view_count": null,
            "_view_module": "@jupyter-widgets/base",
            "_view_module_version": "1.2.0",
            "_view_name": "StyleView",
            "description_width": ""
          }
        },
        "975a025b9893456c9de92f60025bfa47": {
          "model_module": "@jupyter-widgets/base",
          "model_name": "LayoutModel",
          "model_module_version": "1.2.0",
          "state": {
            "_model_module": "@jupyter-widgets/base",
            "_model_module_version": "1.2.0",
            "_model_name": "LayoutModel",
            "_view_count": null,
            "_view_module": "@jupyter-widgets/base",
            "_view_module_version": "1.2.0",
            "_view_name": "LayoutView",
            "align_content": null,
            "align_items": null,
            "align_self": null,
            "border": null,
            "bottom": null,
            "display": null,
            "flex": null,
            "flex_flow": null,
            "grid_area": null,
            "grid_auto_columns": null,
            "grid_auto_flow": null,
            "grid_auto_rows": null,
            "grid_column": null,
            "grid_gap": null,
            "grid_row": null,
            "grid_template_areas": null,
            "grid_template_columns": null,
            "grid_template_rows": null,
            "height": null,
            "justify_content": null,
            "justify_items": null,
            "left": null,
            "margin": null,
            "max_height": null,
            "max_width": null,
            "min_height": null,
            "min_width": null,
            "object_fit": null,
            "object_position": null,
            "order": null,
            "overflow": null,
            "overflow_x": null,
            "overflow_y": null,
            "padding": null,
            "right": null,
            "top": null,
            "visibility": null,
            "width": null
          }
        },
        "d193741dd29c415395787b39207f97d4": {
          "model_module": "@jupyter-widgets/controls",
          "model_name": "DescriptionStyleModel",
          "model_module_version": "1.5.0",
          "state": {
            "_model_module": "@jupyter-widgets/controls",
            "_model_module_version": "1.5.0",
            "_model_name": "DescriptionStyleModel",
            "_view_count": null,
            "_view_module": "@jupyter-widgets/base",
            "_view_module_version": "1.2.0",
            "_view_name": "StyleView",
            "description_width": ""
          }
        },
        "47122fbd2c1948efaf7574c506455976": {
          "model_module": "@jupyter-widgets/base",
          "model_name": "LayoutModel",
          "model_module_version": "1.2.0",
          "state": {
            "_model_module": "@jupyter-widgets/base",
            "_model_module_version": "1.2.0",
            "_model_name": "LayoutModel",
            "_view_count": null,
            "_view_module": "@jupyter-widgets/base",
            "_view_module_version": "1.2.0",
            "_view_name": "LayoutView",
            "align_content": null,
            "align_items": null,
            "align_self": null,
            "border": null,
            "bottom": null,
            "display": null,
            "flex": null,
            "flex_flow": null,
            "grid_area": null,
            "grid_auto_columns": null,
            "grid_auto_flow": null,
            "grid_auto_rows": null,
            "grid_column": null,
            "grid_gap": null,
            "grid_row": null,
            "grid_template_areas": null,
            "grid_template_columns": null,
            "grid_template_rows": null,
            "height": null,
            "justify_content": null,
            "justify_items": null,
            "left": null,
            "margin": null,
            "max_height": null,
            "max_width": null,
            "min_height": null,
            "min_width": null,
            "object_fit": null,
            "object_position": null,
            "order": null,
            "overflow": null,
            "overflow_x": null,
            "overflow_y": null,
            "padding": null,
            "right": null,
            "top": null,
            "visibility": null,
            "width": null
          }
        },
        "619a656f437a462dab5debe31389536a": {
          "model_module": "@jupyter-widgets/controls",
          "model_name": "DescriptionStyleModel",
          "model_module_version": "1.5.0",
          "state": {
            "_model_module": "@jupyter-widgets/controls",
            "_model_module_version": "1.5.0",
            "_model_name": "DescriptionStyleModel",
            "_view_count": null,
            "_view_module": "@jupyter-widgets/base",
            "_view_module_version": "1.2.0",
            "_view_name": "StyleView",
            "description_width": ""
          }
        },
        "0a371bad49d54510998f9e3defd3b4c6": {
          "model_module": "@jupyter-widgets/base",
          "model_name": "LayoutModel",
          "model_module_version": "1.2.0",
          "state": {
            "_model_module": "@jupyter-widgets/base",
            "_model_module_version": "1.2.0",
            "_model_name": "LayoutModel",
            "_view_count": null,
            "_view_module": "@jupyter-widgets/base",
            "_view_module_version": "1.2.0",
            "_view_name": "LayoutView",
            "align_content": null,
            "align_items": null,
            "align_self": null,
            "border": null,
            "bottom": null,
            "display": null,
            "flex": null,
            "flex_flow": null,
            "grid_area": null,
            "grid_auto_columns": null,
            "grid_auto_flow": null,
            "grid_auto_rows": null,
            "grid_column": null,
            "grid_gap": null,
            "grid_row": null,
            "grid_template_areas": null,
            "grid_template_columns": null,
            "grid_template_rows": null,
            "height": null,
            "justify_content": null,
            "justify_items": null,
            "left": null,
            "margin": null,
            "max_height": null,
            "max_width": null,
            "min_height": null,
            "min_width": null,
            "object_fit": null,
            "object_position": null,
            "order": null,
            "overflow": null,
            "overflow_x": null,
            "overflow_y": null,
            "padding": null,
            "right": null,
            "top": null,
            "visibility": null,
            "width": null
          }
        },
        "18e7c1de781e44ebab9c6f2a54224c7e": {
          "model_module": "@jupyter-widgets/controls",
          "model_name": "DescriptionStyleModel",
          "model_module_version": "1.5.0",
          "state": {
            "_model_module": "@jupyter-widgets/controls",
            "_model_module_version": "1.5.0",
            "_model_name": "DescriptionStyleModel",
            "_view_count": null,
            "_view_module": "@jupyter-widgets/base",
            "_view_module_version": "1.2.0",
            "_view_name": "StyleView",
            "description_width": ""
          }
        },
        "cf8fb05983164b6c9f2d5019bea58ecc": {
          "model_module": "@jupyter-widgets/base",
          "model_name": "LayoutModel",
          "model_module_version": "1.2.0",
          "state": {
            "_model_module": "@jupyter-widgets/base",
            "_model_module_version": "1.2.0",
            "_model_name": "LayoutModel",
            "_view_count": null,
            "_view_module": "@jupyter-widgets/base",
            "_view_module_version": "1.2.0",
            "_view_name": "LayoutView",
            "align_content": null,
            "align_items": null,
            "align_self": null,
            "border": null,
            "bottom": null,
            "display": null,
            "flex": null,
            "flex_flow": null,
            "grid_area": null,
            "grid_auto_columns": null,
            "grid_auto_flow": null,
            "grid_auto_rows": null,
            "grid_column": null,
            "grid_gap": null,
            "grid_row": null,
            "grid_template_areas": null,
            "grid_template_columns": null,
            "grid_template_rows": null,
            "height": null,
            "justify_content": null,
            "justify_items": null,
            "left": null,
            "margin": null,
            "max_height": null,
            "max_width": null,
            "min_height": null,
            "min_width": null,
            "object_fit": null,
            "object_position": null,
            "order": null,
            "overflow": null,
            "overflow_x": null,
            "overflow_y": null,
            "padding": null,
            "right": null,
            "top": null,
            "visibility": null,
            "width": null
          }
        },
        "3ed25c442cc54f5a80136558d4a77b79": {
          "model_module": "@jupyter-widgets/controls",
          "model_name": "DescriptionStyleModel",
          "model_module_version": "1.5.0",
          "state": {
            "_model_module": "@jupyter-widgets/controls",
            "_model_module_version": "1.5.0",
            "_model_name": "DescriptionStyleModel",
            "_view_count": null,
            "_view_module": "@jupyter-widgets/base",
            "_view_module_version": "1.2.0",
            "_view_name": "StyleView",
            "description_width": ""
          }
        },
        "3a6cae064c8947efb383adff291f164b": {
          "model_module": "@jupyter-widgets/base",
          "model_name": "LayoutModel",
          "model_module_version": "1.2.0",
          "state": {
            "_model_module": "@jupyter-widgets/base",
            "_model_module_version": "1.2.0",
            "_model_name": "LayoutModel",
            "_view_count": null,
            "_view_module": "@jupyter-widgets/base",
            "_view_module_version": "1.2.0",
            "_view_name": "LayoutView",
            "align_content": null,
            "align_items": null,
            "align_self": null,
            "border": null,
            "bottom": null,
            "display": null,
            "flex": null,
            "flex_flow": null,
            "grid_area": null,
            "grid_auto_columns": null,
            "grid_auto_flow": null,
            "grid_auto_rows": null,
            "grid_column": null,
            "grid_gap": null,
            "grid_row": null,
            "grid_template_areas": null,
            "grid_template_columns": null,
            "grid_template_rows": null,
            "height": null,
            "justify_content": null,
            "justify_items": null,
            "left": null,
            "margin": null,
            "max_height": null,
            "max_width": null,
            "min_height": null,
            "min_width": null,
            "object_fit": null,
            "object_position": null,
            "order": null,
            "overflow": null,
            "overflow_x": null,
            "overflow_y": null,
            "padding": null,
            "right": null,
            "top": null,
            "visibility": null,
            "width": null
          }
        },
        "d20b43b0ff254b5e80b87bd13aa4a30d": {
          "model_module": "@jupyter-widgets/controls",
          "model_name": "DescriptionStyleModel",
          "model_module_version": "1.5.0",
          "state": {
            "_model_module": "@jupyter-widgets/controls",
            "_model_module_version": "1.5.0",
            "_model_name": "DescriptionStyleModel",
            "_view_count": null,
            "_view_module": "@jupyter-widgets/base",
            "_view_module_version": "1.2.0",
            "_view_name": "StyleView",
            "description_width": ""
          }
        },
        "cf4c3469d24f4addb1ae9d268ef27ac2": {
          "model_module": "@jupyter-widgets/base",
          "model_name": "LayoutModel",
          "model_module_version": "1.2.0",
          "state": {
            "_model_module": "@jupyter-widgets/base",
            "_model_module_version": "1.2.0",
            "_model_name": "LayoutModel",
            "_view_count": null,
            "_view_module": "@jupyter-widgets/base",
            "_view_module_version": "1.2.0",
            "_view_name": "LayoutView",
            "align_content": null,
            "align_items": null,
            "align_self": null,
            "border": null,
            "bottom": null,
            "display": null,
            "flex": null,
            "flex_flow": null,
            "grid_area": null,
            "grid_auto_columns": null,
            "grid_auto_flow": null,
            "grid_auto_rows": null,
            "grid_column": null,
            "grid_gap": null,
            "grid_row": null,
            "grid_template_areas": null,
            "grid_template_columns": null,
            "grid_template_rows": null,
            "height": null,
            "justify_content": null,
            "justify_items": null,
            "left": null,
            "margin": null,
            "max_height": null,
            "max_width": null,
            "min_height": null,
            "min_width": null,
            "object_fit": null,
            "object_position": null,
            "order": null,
            "overflow": null,
            "overflow_x": null,
            "overflow_y": null,
            "padding": null,
            "right": null,
            "top": null,
            "visibility": null,
            "width": null
          }
        },
        "64db7fc7092c46ee9eb2f06e51633ede": {
          "model_module": "@jupyter-widgets/controls",
          "model_name": "DescriptionStyleModel",
          "model_module_version": "1.5.0",
          "state": {
            "_model_module": "@jupyter-widgets/controls",
            "_model_module_version": "1.5.0",
            "_model_name": "DescriptionStyleModel",
            "_view_count": null,
            "_view_module": "@jupyter-widgets/base",
            "_view_module_version": "1.2.0",
            "_view_name": "StyleView",
            "description_width": ""
          }
        },
        "49f04523b5dd4a91b9b3b18948f52353": {
          "model_module": "@jupyter-widgets/base",
          "model_name": "LayoutModel",
          "model_module_version": "1.2.0",
          "state": {
            "_model_module": "@jupyter-widgets/base",
            "_model_module_version": "1.2.0",
            "_model_name": "LayoutModel",
            "_view_count": null,
            "_view_module": "@jupyter-widgets/base",
            "_view_module_version": "1.2.0",
            "_view_name": "LayoutView",
            "align_content": null,
            "align_items": null,
            "align_self": null,
            "border": null,
            "bottom": null,
            "display": null,
            "flex": null,
            "flex_flow": null,
            "grid_area": null,
            "grid_auto_columns": null,
            "grid_auto_flow": null,
            "grid_auto_rows": null,
            "grid_column": null,
            "grid_gap": null,
            "grid_row": null,
            "grid_template_areas": null,
            "grid_template_columns": null,
            "grid_template_rows": null,
            "height": null,
            "justify_content": null,
            "justify_items": null,
            "left": null,
            "margin": null,
            "max_height": null,
            "max_width": null,
            "min_height": null,
            "min_width": null,
            "object_fit": null,
            "object_position": null,
            "order": null,
            "overflow": null,
            "overflow_x": null,
            "overflow_y": null,
            "padding": null,
            "right": null,
            "top": null,
            "visibility": null,
            "width": null
          }
        },
        "4f39e41bbdb14764b86925c8883ecfc1": {
          "model_module": "@jupyter-widgets/controls",
          "model_name": "DescriptionStyleModel",
          "model_module_version": "1.5.0",
          "state": {
            "_model_module": "@jupyter-widgets/controls",
            "_model_module_version": "1.5.0",
            "_model_name": "DescriptionStyleModel",
            "_view_count": null,
            "_view_module": "@jupyter-widgets/base",
            "_view_module_version": "1.2.0",
            "_view_name": "StyleView",
            "description_width": ""
          }
        },
        "2b099cc9dfaa44acad70180133ea486e": {
          "model_module": "@jupyter-widgets/base",
          "model_name": "LayoutModel",
          "model_module_version": "1.2.0",
          "state": {
            "_model_module": "@jupyter-widgets/base",
            "_model_module_version": "1.2.0",
            "_model_name": "LayoutModel",
            "_view_count": null,
            "_view_module": "@jupyter-widgets/base",
            "_view_module_version": "1.2.0",
            "_view_name": "LayoutView",
            "align_content": null,
            "align_items": null,
            "align_self": null,
            "border": null,
            "bottom": null,
            "display": null,
            "flex": null,
            "flex_flow": null,
            "grid_area": null,
            "grid_auto_columns": null,
            "grid_auto_flow": null,
            "grid_auto_rows": null,
            "grid_column": null,
            "grid_gap": null,
            "grid_row": null,
            "grid_template_areas": null,
            "grid_template_columns": null,
            "grid_template_rows": null,
            "height": null,
            "justify_content": null,
            "justify_items": null,
            "left": null,
            "margin": null,
            "max_height": null,
            "max_width": null,
            "min_height": null,
            "min_width": null,
            "object_fit": null,
            "object_position": null,
            "order": null,
            "overflow": null,
            "overflow_x": null,
            "overflow_y": null,
            "padding": null,
            "right": null,
            "top": null,
            "visibility": null,
            "width": null
          }
        },
        "c42c9685fdf449478bcf566caf288f89": {
          "model_module": "@jupyter-widgets/controls",
          "model_name": "DescriptionStyleModel",
          "model_module_version": "1.5.0",
          "state": {
            "_model_module": "@jupyter-widgets/controls",
            "_model_module_version": "1.5.0",
            "_model_name": "DescriptionStyleModel",
            "_view_count": null,
            "_view_module": "@jupyter-widgets/base",
            "_view_module_version": "1.2.0",
            "_view_name": "StyleView",
            "description_width": ""
          }
        },
        "6e1e2368bec74296ab91e1e699041dd7": {
          "model_module": "@jupyter-widgets/base",
          "model_name": "LayoutModel",
          "model_module_version": "1.2.0",
          "state": {
            "_model_module": "@jupyter-widgets/base",
            "_model_module_version": "1.2.0",
            "_model_name": "LayoutModel",
            "_view_count": null,
            "_view_module": "@jupyter-widgets/base",
            "_view_module_version": "1.2.0",
            "_view_name": "LayoutView",
            "align_content": null,
            "align_items": null,
            "align_self": null,
            "border": null,
            "bottom": null,
            "display": null,
            "flex": null,
            "flex_flow": null,
            "grid_area": null,
            "grid_auto_columns": null,
            "grid_auto_flow": null,
            "grid_auto_rows": null,
            "grid_column": null,
            "grid_gap": null,
            "grid_row": null,
            "grid_template_areas": null,
            "grid_template_columns": null,
            "grid_template_rows": null,
            "height": null,
            "justify_content": null,
            "justify_items": null,
            "left": null,
            "margin": null,
            "max_height": null,
            "max_width": null,
            "min_height": null,
            "min_width": null,
            "object_fit": null,
            "object_position": null,
            "order": null,
            "overflow": null,
            "overflow_x": null,
            "overflow_y": null,
            "padding": null,
            "right": null,
            "top": null,
            "visibility": null,
            "width": null
          }
        },
        "591cd7adbd484be7aedfa0789260e318": {
          "model_module": "@jupyter-widgets/controls",
          "model_name": "DescriptionStyleModel",
          "model_module_version": "1.5.0",
          "state": {
            "_model_module": "@jupyter-widgets/controls",
            "_model_module_version": "1.5.0",
            "_model_name": "DescriptionStyleModel",
            "_view_count": null,
            "_view_module": "@jupyter-widgets/base",
            "_view_module_version": "1.2.0",
            "_view_name": "StyleView",
            "description_width": ""
          }
        },
        "3f18fc1d6709469fac5a5cf0693859c9": {
          "model_module": "@jupyter-widgets/base",
          "model_name": "LayoutModel",
          "model_module_version": "1.2.0",
          "state": {
            "_model_module": "@jupyter-widgets/base",
            "_model_module_version": "1.2.0",
            "_model_name": "LayoutModel",
            "_view_count": null,
            "_view_module": "@jupyter-widgets/base",
            "_view_module_version": "1.2.0",
            "_view_name": "LayoutView",
            "align_content": null,
            "align_items": null,
            "align_self": null,
            "border": null,
            "bottom": null,
            "display": null,
            "flex": null,
            "flex_flow": null,
            "grid_area": null,
            "grid_auto_columns": null,
            "grid_auto_flow": null,
            "grid_auto_rows": null,
            "grid_column": null,
            "grid_gap": null,
            "grid_row": null,
            "grid_template_areas": null,
            "grid_template_columns": null,
            "grid_template_rows": null,
            "height": null,
            "justify_content": null,
            "justify_items": null,
            "left": null,
            "margin": null,
            "max_height": null,
            "max_width": null,
            "min_height": null,
            "min_width": null,
            "object_fit": null,
            "object_position": null,
            "order": null,
            "overflow": null,
            "overflow_x": null,
            "overflow_y": null,
            "padding": null,
            "right": null,
            "top": null,
            "visibility": null,
            "width": null
          }
        },
        "24a6eed2c798473cb6ff846d54ca0f29": {
          "model_module": "@jupyter-widgets/controls",
          "model_name": "DescriptionStyleModel",
          "model_module_version": "1.5.0",
          "state": {
            "_model_module": "@jupyter-widgets/controls",
            "_model_module_version": "1.5.0",
            "_model_name": "DescriptionStyleModel",
            "_view_count": null,
            "_view_module": "@jupyter-widgets/base",
            "_view_module_version": "1.2.0",
            "_view_name": "StyleView",
            "description_width": ""
          }
        },
        "708f2fa33d774421a8e9a58b8b05132d": {
          "model_module": "@jupyter-widgets/base",
          "model_name": "LayoutModel",
          "model_module_version": "1.2.0",
          "state": {
            "_model_module": "@jupyter-widgets/base",
            "_model_module_version": "1.2.0",
            "_model_name": "LayoutModel",
            "_view_count": null,
            "_view_module": "@jupyter-widgets/base",
            "_view_module_version": "1.2.0",
            "_view_name": "LayoutView",
            "align_content": null,
            "align_items": null,
            "align_self": null,
            "border": null,
            "bottom": null,
            "display": null,
            "flex": null,
            "flex_flow": null,
            "grid_area": null,
            "grid_auto_columns": null,
            "grid_auto_flow": null,
            "grid_auto_rows": null,
            "grid_column": null,
            "grid_gap": null,
            "grid_row": null,
            "grid_template_areas": null,
            "grid_template_columns": null,
            "grid_template_rows": null,
            "height": null,
            "justify_content": null,
            "justify_items": null,
            "left": null,
            "margin": null,
            "max_height": null,
            "max_width": null,
            "min_height": null,
            "min_width": null,
            "object_fit": null,
            "object_position": null,
            "order": null,
            "overflow": null,
            "overflow_x": null,
            "overflow_y": null,
            "padding": null,
            "right": null,
            "top": null,
            "visibility": null,
            "width": null
          }
        }
      }
    }
  },
  "cells": [
    {
      "cell_type": "markdown",
      "source": [
        "# ML task"
      ],
      "metadata": {
        "id": "zGugH0G3EX_c"
      }
    },
    {
      "cell_type": "markdown",
      "source": [
        "## Data Exploration"
      ],
      "metadata": {
        "id": "wPTWb3DTEQqU"
      }
    },
    {
      "cell_type": "code",
      "execution_count": 1,
      "metadata": {
        "id": "428XFvYY5QKD"
      },
      "outputs": [],
      "source": [
        "import matplotlib\n",
        "import numpy as np\n",
        "import pandas as pd\n",
        "\n",
        "data = pd.read_csv('telecom_churn.csv')"
      ]
    },
    {
      "cell_type": "code",
      "source": [
        "data.head(5)"
      ],
      "metadata": {
        "colab": {
          "base_uri": "https://localhost:8080/",
          "height": 285
        },
        "id": "GwHdlgGW5sHA",
        "outputId": "2c9d9eac-2914-414a-9e0a-9fd383281532"
      },
      "execution_count": 2,
      "outputs": [
        {
          "output_type": "execute_result",
          "data": {
            "text/plain": [
              "  State  Account length  Area code International plan Voice mail plan  \\\n",
              "0    KS             128        415                 No             Yes   \n",
              "1    OH             107        415                 No             Yes   \n",
              "2    NJ             137        415                 No              No   \n",
              "3    OH              84        408                Yes              No   \n",
              "4    OK              75        415                Yes              No   \n",
              "\n",
              "   Number vmail messages  Total day minutes  Total day calls  \\\n",
              "0                     25              265.1              110   \n",
              "1                     26              161.6              123   \n",
              "2                      0              243.4              114   \n",
              "3                      0              299.4               71   \n",
              "4                      0              166.7              113   \n",
              "\n",
              "   Total day charge  Total eve minutes  Total eve calls  Total eve charge  \\\n",
              "0             45.07              197.4               99             16.78   \n",
              "1             27.47              195.5              103             16.62   \n",
              "2             41.38              121.2              110             10.30   \n",
              "3             50.90               61.9               88              5.26   \n",
              "4             28.34              148.3              122             12.61   \n",
              "\n",
              "   Total night minutes  Total night calls  Total night charge  \\\n",
              "0                244.7                 91               11.01   \n",
              "1                254.4                103               11.45   \n",
              "2                162.6                104                7.32   \n",
              "3                196.9                 89                8.86   \n",
              "4                186.9                121                8.41   \n",
              "\n",
              "   Total intl minutes  Total intl calls  Total intl charge  \\\n",
              "0                10.0                 3               2.70   \n",
              "1                13.7                 3               3.70   \n",
              "2                12.2                 5               3.29   \n",
              "3                 6.6                 7               1.78   \n",
              "4                10.1                 3               2.73   \n",
              "\n",
              "   Customer service calls  Churn  \n",
              "0                       1  False  \n",
              "1                       1  False  \n",
              "2                       0  False  \n",
              "3                       2  False  \n",
              "4                       3  False  "
            ],
            "text/html": [
              "\n",
              "  <div id=\"df-580eb18c-022c-4707-aaf1-59b5471c8123\">\n",
              "    <div class=\"colab-df-container\">\n",
              "      <div>\n",
              "<style scoped>\n",
              "    .dataframe tbody tr th:only-of-type {\n",
              "        vertical-align: middle;\n",
              "    }\n",
              "\n",
              "    .dataframe tbody tr th {\n",
              "        vertical-align: top;\n",
              "    }\n",
              "\n",
              "    .dataframe thead th {\n",
              "        text-align: right;\n",
              "    }\n",
              "</style>\n",
              "<table border=\"1\" class=\"dataframe\">\n",
              "  <thead>\n",
              "    <tr style=\"text-align: right;\">\n",
              "      <th></th>\n",
              "      <th>State</th>\n",
              "      <th>Account length</th>\n",
              "      <th>Area code</th>\n",
              "      <th>International plan</th>\n",
              "      <th>Voice mail plan</th>\n",
              "      <th>Number vmail messages</th>\n",
              "      <th>Total day minutes</th>\n",
              "      <th>Total day calls</th>\n",
              "      <th>Total day charge</th>\n",
              "      <th>Total eve minutes</th>\n",
              "      <th>Total eve calls</th>\n",
              "      <th>Total eve charge</th>\n",
              "      <th>Total night minutes</th>\n",
              "      <th>Total night calls</th>\n",
              "      <th>Total night charge</th>\n",
              "      <th>Total intl minutes</th>\n",
              "      <th>Total intl calls</th>\n",
              "      <th>Total intl charge</th>\n",
              "      <th>Customer service calls</th>\n",
              "      <th>Churn</th>\n",
              "    </tr>\n",
              "  </thead>\n",
              "  <tbody>\n",
              "    <tr>\n",
              "      <th>0</th>\n",
              "      <td>KS</td>\n",
              "      <td>128</td>\n",
              "      <td>415</td>\n",
              "      <td>No</td>\n",
              "      <td>Yes</td>\n",
              "      <td>25</td>\n",
              "      <td>265.1</td>\n",
              "      <td>110</td>\n",
              "      <td>45.07</td>\n",
              "      <td>197.4</td>\n",
              "      <td>99</td>\n",
              "      <td>16.78</td>\n",
              "      <td>244.7</td>\n",
              "      <td>91</td>\n",
              "      <td>11.01</td>\n",
              "      <td>10.0</td>\n",
              "      <td>3</td>\n",
              "      <td>2.70</td>\n",
              "      <td>1</td>\n",
              "      <td>False</td>\n",
              "    </tr>\n",
              "    <tr>\n",
              "      <th>1</th>\n",
              "      <td>OH</td>\n",
              "      <td>107</td>\n",
              "      <td>415</td>\n",
              "      <td>No</td>\n",
              "      <td>Yes</td>\n",
              "      <td>26</td>\n",
              "      <td>161.6</td>\n",
              "      <td>123</td>\n",
              "      <td>27.47</td>\n",
              "      <td>195.5</td>\n",
              "      <td>103</td>\n",
              "      <td>16.62</td>\n",
              "      <td>254.4</td>\n",
              "      <td>103</td>\n",
              "      <td>11.45</td>\n",
              "      <td>13.7</td>\n",
              "      <td>3</td>\n",
              "      <td>3.70</td>\n",
              "      <td>1</td>\n",
              "      <td>False</td>\n",
              "    </tr>\n",
              "    <tr>\n",
              "      <th>2</th>\n",
              "      <td>NJ</td>\n",
              "      <td>137</td>\n",
              "      <td>415</td>\n",
              "      <td>No</td>\n",
              "      <td>No</td>\n",
              "      <td>0</td>\n",
              "      <td>243.4</td>\n",
              "      <td>114</td>\n",
              "      <td>41.38</td>\n",
              "      <td>121.2</td>\n",
              "      <td>110</td>\n",
              "      <td>10.30</td>\n",
              "      <td>162.6</td>\n",
              "      <td>104</td>\n",
              "      <td>7.32</td>\n",
              "      <td>12.2</td>\n",
              "      <td>5</td>\n",
              "      <td>3.29</td>\n",
              "      <td>0</td>\n",
              "      <td>False</td>\n",
              "    </tr>\n",
              "    <tr>\n",
              "      <th>3</th>\n",
              "      <td>OH</td>\n",
              "      <td>84</td>\n",
              "      <td>408</td>\n",
              "      <td>Yes</td>\n",
              "      <td>No</td>\n",
              "      <td>0</td>\n",
              "      <td>299.4</td>\n",
              "      <td>71</td>\n",
              "      <td>50.90</td>\n",
              "      <td>61.9</td>\n",
              "      <td>88</td>\n",
              "      <td>5.26</td>\n",
              "      <td>196.9</td>\n",
              "      <td>89</td>\n",
              "      <td>8.86</td>\n",
              "      <td>6.6</td>\n",
              "      <td>7</td>\n",
              "      <td>1.78</td>\n",
              "      <td>2</td>\n",
              "      <td>False</td>\n",
              "    </tr>\n",
              "    <tr>\n",
              "      <th>4</th>\n",
              "      <td>OK</td>\n",
              "      <td>75</td>\n",
              "      <td>415</td>\n",
              "      <td>Yes</td>\n",
              "      <td>No</td>\n",
              "      <td>0</td>\n",
              "      <td>166.7</td>\n",
              "      <td>113</td>\n",
              "      <td>28.34</td>\n",
              "      <td>148.3</td>\n",
              "      <td>122</td>\n",
              "      <td>12.61</td>\n",
              "      <td>186.9</td>\n",
              "      <td>121</td>\n",
              "      <td>8.41</td>\n",
              "      <td>10.1</td>\n",
              "      <td>3</td>\n",
              "      <td>2.73</td>\n",
              "      <td>3</td>\n",
              "      <td>False</td>\n",
              "    </tr>\n",
              "  </tbody>\n",
              "</table>\n",
              "</div>\n",
              "      <button class=\"colab-df-convert\" onclick=\"convertToInteractive('df-580eb18c-022c-4707-aaf1-59b5471c8123')\"\n",
              "              title=\"Convert this dataframe to an interactive table.\"\n",
              "              style=\"display:none;\">\n",
              "        \n",
              "  <svg xmlns=\"http://www.w3.org/2000/svg\" height=\"24px\"viewBox=\"0 0 24 24\"\n",
              "       width=\"24px\">\n",
              "    <path d=\"M0 0h24v24H0V0z\" fill=\"none\"/>\n",
              "    <path d=\"M18.56 5.44l.94 2.06.94-2.06 2.06-.94-2.06-.94-.94-2.06-.94 2.06-2.06.94zm-11 1L8.5 8.5l.94-2.06 2.06-.94-2.06-.94L8.5 2.5l-.94 2.06-2.06.94zm10 10l.94 2.06.94-2.06 2.06-.94-2.06-.94-.94-2.06-.94 2.06-2.06.94z\"/><path d=\"M17.41 7.96l-1.37-1.37c-.4-.4-.92-.59-1.43-.59-.52 0-1.04.2-1.43.59L10.3 9.45l-7.72 7.72c-.78.78-.78 2.05 0 2.83L4 21.41c.39.39.9.59 1.41.59.51 0 1.02-.2 1.41-.59l7.78-7.78 2.81-2.81c.8-.78.8-2.07 0-2.86zM5.41 20L4 18.59l7.72-7.72 1.47 1.35L5.41 20z\"/>\n",
              "  </svg>\n",
              "      </button>\n",
              "      \n",
              "  <style>\n",
              "    .colab-df-container {\n",
              "      display:flex;\n",
              "      flex-wrap:wrap;\n",
              "      gap: 12px;\n",
              "    }\n",
              "\n",
              "    .colab-df-convert {\n",
              "      background-color: #E8F0FE;\n",
              "      border: none;\n",
              "      border-radius: 50%;\n",
              "      cursor: pointer;\n",
              "      display: none;\n",
              "      fill: #1967D2;\n",
              "      height: 32px;\n",
              "      padding: 0 0 0 0;\n",
              "      width: 32px;\n",
              "    }\n",
              "\n",
              "    .colab-df-convert:hover {\n",
              "      background-color: #E2EBFA;\n",
              "      box-shadow: 0px 1px 2px rgba(60, 64, 67, 0.3), 0px 1px 3px 1px rgba(60, 64, 67, 0.15);\n",
              "      fill: #174EA6;\n",
              "    }\n",
              "\n",
              "    [theme=dark] .colab-df-convert {\n",
              "      background-color: #3B4455;\n",
              "      fill: #D2E3FC;\n",
              "    }\n",
              "\n",
              "    [theme=dark] .colab-df-convert:hover {\n",
              "      background-color: #434B5C;\n",
              "      box-shadow: 0px 1px 3px 1px rgba(0, 0, 0, 0.15);\n",
              "      filter: drop-shadow(0px 1px 2px rgba(0, 0, 0, 0.3));\n",
              "      fill: #FFFFFF;\n",
              "    }\n",
              "  </style>\n",
              "\n",
              "      <script>\n",
              "        const buttonEl =\n",
              "          document.querySelector('#df-580eb18c-022c-4707-aaf1-59b5471c8123 button.colab-df-convert');\n",
              "        buttonEl.style.display =\n",
              "          google.colab.kernel.accessAllowed ? 'block' : 'none';\n",
              "\n",
              "        async function convertToInteractive(key) {\n",
              "          const element = document.querySelector('#df-580eb18c-022c-4707-aaf1-59b5471c8123');\n",
              "          const dataTable =\n",
              "            await google.colab.kernel.invokeFunction('convertToInteractive',\n",
              "                                                     [key], {});\n",
              "          if (!dataTable) return;\n",
              "\n",
              "          const docLinkHtml = 'Like what you see? Visit the ' +\n",
              "            '<a target=\"_blank\" href=https://colab.research.google.com/notebooks/data_table.ipynb>data table notebook</a>'\n",
              "            + ' to learn more about interactive tables.';\n",
              "          element.innerHTML = '';\n",
              "          dataTable['output_type'] = 'display_data';\n",
              "          await google.colab.output.renderOutput(dataTable, element);\n",
              "          const docLink = document.createElement('div');\n",
              "          docLink.innerHTML = docLinkHtml;\n",
              "          element.appendChild(docLink);\n",
              "        }\n",
              "      </script>\n",
              "    </div>\n",
              "  </div>\n",
              "  "
            ]
          },
          "metadata": {},
          "execution_count": 2
        }
      ]
    },
    {
      "cell_type": "markdown",
      "source": [
        "Let's check columns types and whether there are null elements\n",
        "\n",
        "spoiler: there are no null elements"
      ],
      "metadata": {
        "id": "qreciP69593m"
      }
    },
    {
      "cell_type": "code",
      "source": [
        "data.info()"
      ],
      "metadata": {
        "colab": {
          "base_uri": "https://localhost:8080/"
        },
        "id": "D-rLE7JM54x8",
        "outputId": "b71b29d2-fd4f-4961-cbc0-909a00597e4d"
      },
      "execution_count": 3,
      "outputs": [
        {
          "output_type": "stream",
          "name": "stdout",
          "text": [
            "<class 'pandas.core.frame.DataFrame'>\n",
            "RangeIndex: 3333 entries, 0 to 3332\n",
            "Data columns (total 20 columns):\n",
            " #   Column                  Non-Null Count  Dtype  \n",
            "---  ------                  --------------  -----  \n",
            " 0   State                   3333 non-null   object \n",
            " 1   Account length          3333 non-null   int64  \n",
            " 2   Area code               3333 non-null   int64  \n",
            " 3   International plan      3333 non-null   object \n",
            " 4   Voice mail plan         3333 non-null   object \n",
            " 5   Number vmail messages   3333 non-null   int64  \n",
            " 6   Total day minutes       3333 non-null   float64\n",
            " 7   Total day calls         3333 non-null   int64  \n",
            " 8   Total day charge        3333 non-null   float64\n",
            " 9   Total eve minutes       3333 non-null   float64\n",
            " 10  Total eve calls         3333 non-null   int64  \n",
            " 11  Total eve charge        3333 non-null   float64\n",
            " 12  Total night minutes     3333 non-null   float64\n",
            " 13  Total night calls       3333 non-null   int64  \n",
            " 14  Total night charge      3333 non-null   float64\n",
            " 15  Total intl minutes      3333 non-null   float64\n",
            " 16  Total intl calls        3333 non-null   int64  \n",
            " 17  Total intl charge       3333 non-null   float64\n",
            " 18  Customer service calls  3333 non-null   int64  \n",
            " 19  Churn                   3333 non-null   bool   \n",
            "dtypes: bool(1), float64(8), int64(8), object(3)\n",
            "memory usage: 498.1+ KB\n"
          ]
        }
      ]
    },
    {
      "cell_type": "code",
      "source": [
        "data.describe()"
      ],
      "metadata": {
        "colab": {
          "base_uri": "https://localhost:8080/",
          "height": 362
        },
        "id": "vq64cnOl6Om2",
        "outputId": "f1beef0a-a302-418d-edd3-308d0c1eabbc"
      },
      "execution_count": 4,
      "outputs": [
        {
          "output_type": "execute_result",
          "data": {
            "text/plain": [
              "       Account length    Area code  Number vmail messages  Total day minutes  \\\n",
              "count     3333.000000  3333.000000            3333.000000        3333.000000   \n",
              "mean       101.064806   437.182418               8.099010         179.775098   \n",
              "std         39.822106    42.371290              13.688365          54.467389   \n",
              "min          1.000000   408.000000               0.000000           0.000000   \n",
              "25%         74.000000   408.000000               0.000000         143.700000   \n",
              "50%        101.000000   415.000000               0.000000         179.400000   \n",
              "75%        127.000000   510.000000              20.000000         216.400000   \n",
              "max        243.000000   510.000000              51.000000         350.800000   \n",
              "\n",
              "       Total day calls  Total day charge  Total eve minutes  Total eve calls  \\\n",
              "count      3333.000000       3333.000000        3333.000000      3333.000000   \n",
              "mean        100.435644         30.562307         200.980348       100.114311   \n",
              "std          20.069084          9.259435          50.713844        19.922625   \n",
              "min           0.000000          0.000000           0.000000         0.000000   \n",
              "25%          87.000000         24.430000         166.600000        87.000000   \n",
              "50%         101.000000         30.500000         201.400000       100.000000   \n",
              "75%         114.000000         36.790000         235.300000       114.000000   \n",
              "max         165.000000         59.640000         363.700000       170.000000   \n",
              "\n",
              "       Total eve charge  Total night minutes  Total night calls  \\\n",
              "count       3333.000000          3333.000000        3333.000000   \n",
              "mean          17.083540           200.872037         100.107711   \n",
              "std            4.310668            50.573847          19.568609   \n",
              "min            0.000000            23.200000          33.000000   \n",
              "25%           14.160000           167.000000          87.000000   \n",
              "50%           17.120000           201.200000         100.000000   \n",
              "75%           20.000000           235.300000         113.000000   \n",
              "max           30.910000           395.000000         175.000000   \n",
              "\n",
              "       Total night charge  Total intl minutes  Total intl calls  \\\n",
              "count         3333.000000         3333.000000       3333.000000   \n",
              "mean             9.039325           10.237294          4.479448   \n",
              "std              2.275873            2.791840          2.461214   \n",
              "min              1.040000            0.000000          0.000000   \n",
              "25%              7.520000            8.500000          3.000000   \n",
              "50%              9.050000           10.300000          4.000000   \n",
              "75%             10.590000           12.100000          6.000000   \n",
              "max             17.770000           20.000000         20.000000   \n",
              "\n",
              "       Total intl charge  Customer service calls  \n",
              "count        3333.000000             3333.000000  \n",
              "mean            2.764581                1.562856  \n",
              "std             0.753773                1.315491  \n",
              "min             0.000000                0.000000  \n",
              "25%             2.300000                1.000000  \n",
              "50%             2.780000                1.000000  \n",
              "75%             3.270000                2.000000  \n",
              "max             5.400000                9.000000  "
            ],
            "text/html": [
              "\n",
              "  <div id=\"df-f6494f49-beb5-4f5d-bed9-99f5ba0df945\">\n",
              "    <div class=\"colab-df-container\">\n",
              "      <div>\n",
              "<style scoped>\n",
              "    .dataframe tbody tr th:only-of-type {\n",
              "        vertical-align: middle;\n",
              "    }\n",
              "\n",
              "    .dataframe tbody tr th {\n",
              "        vertical-align: top;\n",
              "    }\n",
              "\n",
              "    .dataframe thead th {\n",
              "        text-align: right;\n",
              "    }\n",
              "</style>\n",
              "<table border=\"1\" class=\"dataframe\">\n",
              "  <thead>\n",
              "    <tr style=\"text-align: right;\">\n",
              "      <th></th>\n",
              "      <th>Account length</th>\n",
              "      <th>Area code</th>\n",
              "      <th>Number vmail messages</th>\n",
              "      <th>Total day minutes</th>\n",
              "      <th>Total day calls</th>\n",
              "      <th>Total day charge</th>\n",
              "      <th>Total eve minutes</th>\n",
              "      <th>Total eve calls</th>\n",
              "      <th>Total eve charge</th>\n",
              "      <th>Total night minutes</th>\n",
              "      <th>Total night calls</th>\n",
              "      <th>Total night charge</th>\n",
              "      <th>Total intl minutes</th>\n",
              "      <th>Total intl calls</th>\n",
              "      <th>Total intl charge</th>\n",
              "      <th>Customer service calls</th>\n",
              "    </tr>\n",
              "  </thead>\n",
              "  <tbody>\n",
              "    <tr>\n",
              "      <th>count</th>\n",
              "      <td>3333.000000</td>\n",
              "      <td>3333.000000</td>\n",
              "      <td>3333.000000</td>\n",
              "      <td>3333.000000</td>\n",
              "      <td>3333.000000</td>\n",
              "      <td>3333.000000</td>\n",
              "      <td>3333.000000</td>\n",
              "      <td>3333.000000</td>\n",
              "      <td>3333.000000</td>\n",
              "      <td>3333.000000</td>\n",
              "      <td>3333.000000</td>\n",
              "      <td>3333.000000</td>\n",
              "      <td>3333.000000</td>\n",
              "      <td>3333.000000</td>\n",
              "      <td>3333.000000</td>\n",
              "      <td>3333.000000</td>\n",
              "    </tr>\n",
              "    <tr>\n",
              "      <th>mean</th>\n",
              "      <td>101.064806</td>\n",
              "      <td>437.182418</td>\n",
              "      <td>8.099010</td>\n",
              "      <td>179.775098</td>\n",
              "      <td>100.435644</td>\n",
              "      <td>30.562307</td>\n",
              "      <td>200.980348</td>\n",
              "      <td>100.114311</td>\n",
              "      <td>17.083540</td>\n",
              "      <td>200.872037</td>\n",
              "      <td>100.107711</td>\n",
              "      <td>9.039325</td>\n",
              "      <td>10.237294</td>\n",
              "      <td>4.479448</td>\n",
              "      <td>2.764581</td>\n",
              "      <td>1.562856</td>\n",
              "    </tr>\n",
              "    <tr>\n",
              "      <th>std</th>\n",
              "      <td>39.822106</td>\n",
              "      <td>42.371290</td>\n",
              "      <td>13.688365</td>\n",
              "      <td>54.467389</td>\n",
              "      <td>20.069084</td>\n",
              "      <td>9.259435</td>\n",
              "      <td>50.713844</td>\n",
              "      <td>19.922625</td>\n",
              "      <td>4.310668</td>\n",
              "      <td>50.573847</td>\n",
              "      <td>19.568609</td>\n",
              "      <td>2.275873</td>\n",
              "      <td>2.791840</td>\n",
              "      <td>2.461214</td>\n",
              "      <td>0.753773</td>\n",
              "      <td>1.315491</td>\n",
              "    </tr>\n",
              "    <tr>\n",
              "      <th>min</th>\n",
              "      <td>1.000000</td>\n",
              "      <td>408.000000</td>\n",
              "      <td>0.000000</td>\n",
              "      <td>0.000000</td>\n",
              "      <td>0.000000</td>\n",
              "      <td>0.000000</td>\n",
              "      <td>0.000000</td>\n",
              "      <td>0.000000</td>\n",
              "      <td>0.000000</td>\n",
              "      <td>23.200000</td>\n",
              "      <td>33.000000</td>\n",
              "      <td>1.040000</td>\n",
              "      <td>0.000000</td>\n",
              "      <td>0.000000</td>\n",
              "      <td>0.000000</td>\n",
              "      <td>0.000000</td>\n",
              "    </tr>\n",
              "    <tr>\n",
              "      <th>25%</th>\n",
              "      <td>74.000000</td>\n",
              "      <td>408.000000</td>\n",
              "      <td>0.000000</td>\n",
              "      <td>143.700000</td>\n",
              "      <td>87.000000</td>\n",
              "      <td>24.430000</td>\n",
              "      <td>166.600000</td>\n",
              "      <td>87.000000</td>\n",
              "      <td>14.160000</td>\n",
              "      <td>167.000000</td>\n",
              "      <td>87.000000</td>\n",
              "      <td>7.520000</td>\n",
              "      <td>8.500000</td>\n",
              "      <td>3.000000</td>\n",
              "      <td>2.300000</td>\n",
              "      <td>1.000000</td>\n",
              "    </tr>\n",
              "    <tr>\n",
              "      <th>50%</th>\n",
              "      <td>101.000000</td>\n",
              "      <td>415.000000</td>\n",
              "      <td>0.000000</td>\n",
              "      <td>179.400000</td>\n",
              "      <td>101.000000</td>\n",
              "      <td>30.500000</td>\n",
              "      <td>201.400000</td>\n",
              "      <td>100.000000</td>\n",
              "      <td>17.120000</td>\n",
              "      <td>201.200000</td>\n",
              "      <td>100.000000</td>\n",
              "      <td>9.050000</td>\n",
              "      <td>10.300000</td>\n",
              "      <td>4.000000</td>\n",
              "      <td>2.780000</td>\n",
              "      <td>1.000000</td>\n",
              "    </tr>\n",
              "    <tr>\n",
              "      <th>75%</th>\n",
              "      <td>127.000000</td>\n",
              "      <td>510.000000</td>\n",
              "      <td>20.000000</td>\n",
              "      <td>216.400000</td>\n",
              "      <td>114.000000</td>\n",
              "      <td>36.790000</td>\n",
              "      <td>235.300000</td>\n",
              "      <td>114.000000</td>\n",
              "      <td>20.000000</td>\n",
              "      <td>235.300000</td>\n",
              "      <td>113.000000</td>\n",
              "      <td>10.590000</td>\n",
              "      <td>12.100000</td>\n",
              "      <td>6.000000</td>\n",
              "      <td>3.270000</td>\n",
              "      <td>2.000000</td>\n",
              "    </tr>\n",
              "    <tr>\n",
              "      <th>max</th>\n",
              "      <td>243.000000</td>\n",
              "      <td>510.000000</td>\n",
              "      <td>51.000000</td>\n",
              "      <td>350.800000</td>\n",
              "      <td>165.000000</td>\n",
              "      <td>59.640000</td>\n",
              "      <td>363.700000</td>\n",
              "      <td>170.000000</td>\n",
              "      <td>30.910000</td>\n",
              "      <td>395.000000</td>\n",
              "      <td>175.000000</td>\n",
              "      <td>17.770000</td>\n",
              "      <td>20.000000</td>\n",
              "      <td>20.000000</td>\n",
              "      <td>5.400000</td>\n",
              "      <td>9.000000</td>\n",
              "    </tr>\n",
              "  </tbody>\n",
              "</table>\n",
              "</div>\n",
              "      <button class=\"colab-df-convert\" onclick=\"convertToInteractive('df-f6494f49-beb5-4f5d-bed9-99f5ba0df945')\"\n",
              "              title=\"Convert this dataframe to an interactive table.\"\n",
              "              style=\"display:none;\">\n",
              "        \n",
              "  <svg xmlns=\"http://www.w3.org/2000/svg\" height=\"24px\"viewBox=\"0 0 24 24\"\n",
              "       width=\"24px\">\n",
              "    <path d=\"M0 0h24v24H0V0z\" fill=\"none\"/>\n",
              "    <path d=\"M18.56 5.44l.94 2.06.94-2.06 2.06-.94-2.06-.94-.94-2.06-.94 2.06-2.06.94zm-11 1L8.5 8.5l.94-2.06 2.06-.94-2.06-.94L8.5 2.5l-.94 2.06-2.06.94zm10 10l.94 2.06.94-2.06 2.06-.94-2.06-.94-.94-2.06-.94 2.06-2.06.94z\"/><path d=\"M17.41 7.96l-1.37-1.37c-.4-.4-.92-.59-1.43-.59-.52 0-1.04.2-1.43.59L10.3 9.45l-7.72 7.72c-.78.78-.78 2.05 0 2.83L4 21.41c.39.39.9.59 1.41.59.51 0 1.02-.2 1.41-.59l7.78-7.78 2.81-2.81c.8-.78.8-2.07 0-2.86zM5.41 20L4 18.59l7.72-7.72 1.47 1.35L5.41 20z\"/>\n",
              "  </svg>\n",
              "      </button>\n",
              "      \n",
              "  <style>\n",
              "    .colab-df-container {\n",
              "      display:flex;\n",
              "      flex-wrap:wrap;\n",
              "      gap: 12px;\n",
              "    }\n",
              "\n",
              "    .colab-df-convert {\n",
              "      background-color: #E8F0FE;\n",
              "      border: none;\n",
              "      border-radius: 50%;\n",
              "      cursor: pointer;\n",
              "      display: none;\n",
              "      fill: #1967D2;\n",
              "      height: 32px;\n",
              "      padding: 0 0 0 0;\n",
              "      width: 32px;\n",
              "    }\n",
              "\n",
              "    .colab-df-convert:hover {\n",
              "      background-color: #E2EBFA;\n",
              "      box-shadow: 0px 1px 2px rgba(60, 64, 67, 0.3), 0px 1px 3px 1px rgba(60, 64, 67, 0.15);\n",
              "      fill: #174EA6;\n",
              "    }\n",
              "\n",
              "    [theme=dark] .colab-df-convert {\n",
              "      background-color: #3B4455;\n",
              "      fill: #D2E3FC;\n",
              "    }\n",
              "\n",
              "    [theme=dark] .colab-df-convert:hover {\n",
              "      background-color: #434B5C;\n",
              "      box-shadow: 0px 1px 3px 1px rgba(0, 0, 0, 0.15);\n",
              "      filter: drop-shadow(0px 1px 2px rgba(0, 0, 0, 0.3));\n",
              "      fill: #FFFFFF;\n",
              "    }\n",
              "  </style>\n",
              "\n",
              "      <script>\n",
              "        const buttonEl =\n",
              "          document.querySelector('#df-f6494f49-beb5-4f5d-bed9-99f5ba0df945 button.colab-df-convert');\n",
              "        buttonEl.style.display =\n",
              "          google.colab.kernel.accessAllowed ? 'block' : 'none';\n",
              "\n",
              "        async function convertToInteractive(key) {\n",
              "          const element = document.querySelector('#df-f6494f49-beb5-4f5d-bed9-99f5ba0df945');\n",
              "          const dataTable =\n",
              "            await google.colab.kernel.invokeFunction('convertToInteractive',\n",
              "                                                     [key], {});\n",
              "          if (!dataTable) return;\n",
              "\n",
              "          const docLinkHtml = 'Like what you see? Visit the ' +\n",
              "            '<a target=\"_blank\" href=https://colab.research.google.com/notebooks/data_table.ipynb>data table notebook</a>'\n",
              "            + ' to learn more about interactive tables.';\n",
              "          element.innerHTML = '';\n",
              "          dataTable['output_type'] = 'display_data';\n",
              "          await google.colab.output.renderOutput(dataTable, element);\n",
              "          const docLink = document.createElement('div');\n",
              "          docLink.innerHTML = docLinkHtml;\n",
              "          element.appendChild(docLink);\n",
              "        }\n",
              "      </script>\n",
              "    </div>\n",
              "  </div>\n",
              "  "
            ]
          },
          "metadata": {},
          "execution_count": 4
        }
      ]
    },
    {
      "cell_type": "code",
      "source": [
        "try:\n",
        "  for column_name in data.columns:\n",
        "    print(column_name)\n",
        "    data[column_name].hist()\n",
        "    matplotlib.pyplot.show()\n",
        "except:\n",
        "  pass"
      ],
      "metadata": {
        "colab": {
          "base_uri": "https://localhost:8080/",
          "height": 1000
        },
        "id": "OD9iw7ca83tG",
        "outputId": "a5f77ce7-9166-4404-aa5a-c4d7c0ef67f6"
      },
      "execution_count": 5,
      "outputs": [
        {
          "output_type": "stream",
          "name": "stdout",
          "text": [
            "State\n"
          ]
        },
        {
          "output_type": "display_data",
          "data": {
            "text/plain": [
              "<Figure size 432x288 with 1 Axes>"
            ],
            "image/png": "[encoded data removed]"
          },
          "metadata": {
            "needs_background": "light"
          }
        },
        {
          "output_type": "stream",
          "name": "stdout",
          "text": [
            "Account length\n"
          ]
        },
        {
          "output_type": "display_data",
          "data": {
            "text/plain": [
              "<Figure size 432x288 with 1 Axes>"
            ],
            "image/png": "[encoded data removed]"
          },
          "metadata": {
            "needs_background": "light"
          }
        },
        {
          "output_type": "stream",
          "name": "stdout",
          "text": [
            "Area code\n"
          ]
        },
        {
          "output_type": "display_data",
          "data": {
            "text/plain": [
              "<Figure size 432x288 with 1 Axes>"
            ],
            "image/png": "[encoded data removed]"
          },
          "metadata": {
            "needs_background": "light"
          }
        },
        {
          "output_type": "stream",
          "name": "stdout",
          "text": [
            "International plan\n"
          ]
        },
        {
          "output_type": "display_data",
          "data": {
            "text/plain": [
              "<Figure size 432x288 with 1 Axes>"
            ],
            "image/png": "[encoded data removed]"
          },
          "metadata": {
            "needs_background": "light"
          }
        },
        {
          "output_type": "stream",
          "name": "stdout",
          "text": [
            "Voice mail plan\n"
          ]
        },
        {
          "output_type": "display_data",
          "data": {
            "text/plain": [
              "<Figure size 432x288 with 1 Axes>"
            ],
            "image/png": "[encoded data removed]"
          },
          "metadata": {
            "needs_background": "light"
          }
        },
        {
          "output_type": "stream",
          "name": "stdout",
          "text": [
            "Number vmail messages\n"
          ]
        },
        {
          "output_type": "display_data",
          "data": {
            "text/plain": [
              "<Figure size 432x288 with 1 Axes>"
            ],
            "image/png": "[encoded data removed]"
          },
          "metadata": {
            "needs_background": "light"
          }
        },
        {
          "output_type": "stream",
          "name": "stdout",
          "text": [
            "Total day minutes\n"
          ]
        },
        {
          "output_type": "display_data",
          "data": {
            "text/plain": [
              "<Figure size 432x288 with 1 Axes>"
            ],
            "image/png": "[encoded data removed]"
          },
          "metadata": {
            "needs_background": "light"
          }
        },
        {
          "output_type": "stream",
          "name": "stdout",
          "text": [
            "Total day calls\n"
          ]
        },
        {
          "output_type": "display_data",
          "data": {
            "text/plain": [
              "<Figure size 432x288 with 1 Axes>"
            ],
            "image/png": "[encoded data removed]"
          },
          "metadata": {
            "needs_background": "light"
          }
        },
        {
          "output_type": "stream",
          "name": "stdout",
          "text": [
            "Total day charge\n"
          ]
        },
        {
          "output_type": "display_data",
          "data": {
            "text/plain": [
              "<Figure size 432x288 with 1 Axes>"
            ],
            "image/png": "[encoded data removed]"
          },
          "metadata": {
            "needs_background": "light"
          }
        },
        {
          "output_type": "stream",
          "name": "stdout",
          "text": [
            "Total eve minutes\n"
          ]
        },
        {
          "output_type": "display_data",
          "data": {
            "text/plain": [
              "<Figure size 432x288 with 1 Axes>"
            ],
            "image/png": "[encoded data removed]"
          },
          "metadata": {
            "needs_background": "light"
          }
        },
        {
          "output_type": "stream",
          "name": "stdout",
          "text": [
            "Total eve calls\n"
          ]
        },
        {
          "output_type": "display_data",
          "data": {
            "text/plain": [
              "<Figure size 432x288 with 1 Axes>"
            ],
            "image/png": "[encoded data removed]"
          },
          "metadata": {
            "needs_background": "light"
          }
        },
        {
          "output_type": "stream",
          "name": "stdout",
          "text": [
            "Total eve charge\n"
          ]
        },
        {
          "output_type": "display_data",
          "data": {
            "text/plain": [
              "<Figure size 432x288 with 1 Axes>"
            ],
            "image/png": "[encoded data removed]"
          },
          "metadata": {
            "needs_background": "light"
          }
        },
        {
          "output_type": "stream",
          "name": "stdout",
          "text": [
            "Total night minutes\n"
          ]
        },
        {
          "output_type": "display_data",
          "data": {
            "text/plain": [
              "<Figure size 432x288 with 1 Axes>"
            ],
            "image/png": "[encoded data removed]"
          },
          "metadata": {
            "needs_background": "light"
          }
        },
        {
          "output_type": "stream",
          "name": "stdout",
          "text": [
            "Total night calls\n"
          ]
        },
        {
          "output_type": "display_data",
          "data": {
            "text/plain": [
              "<Figure size 432x288 with 1 Axes>"
            ],
            "image/png": "[encoded data removed]"
          },
          "metadata": {
            "needs_background": "light"
          }
        },
        {
          "output_type": "stream",
          "name": "stdout",
          "text": [
            "Total night charge\n"
          ]
        },
        {
          "output_type": "display_data",
          "data": {
            "text/plain": [
              "<Figure size 432x288 with 1 Axes>"
            ],
            "image/png": "[encoded data removed]"
          },
          "metadata": {
            "needs_background": "light"
          }
        },
        {
          "output_type": "stream",
          "name": "stdout",
          "text": [
            "Total intl minutes\n"
          ]
        },
        {
          "output_type": "display_data",
          "data": {
            "text/plain": [
              "<Figure size 432x288 with 1 Axes>"
            ],
            "image/png": "[encoded data removed]"
          },
          "metadata": {
            "needs_background": "light"
          }
        },
        {
          "output_type": "stream",
          "name": "stdout",
          "text": [
            "Total intl calls\n"
          ]
        },
        {
          "output_type": "display_data",
          "data": {
            "text/plain": [
              "<Figure size 432x288 with 1 Axes>"
            ],
            "image/png": "[encoded data removed]"
          },
          "metadata": {
            "needs_background": "light"
          }
        },
        {
          "output_type": "stream",
          "name": "stdout",
          "text": [
            "Total intl charge\n"
          ]
        },
        {
          "output_type": "display_data",
          "data": {
            "text/plain": [
              "<Figure size 432x288 with 1 Axes>"
            ],
            "image/png": "[encoded data removed]"
          },
          "metadata": {
            "needs_background": "light"
          }
        },
        {
          "output_type": "stream",
          "name": "stdout",
          "text": [
            "Customer service calls\n"
          ]
        },
        {
          "output_type": "display_data",
          "data": {
            "text/plain": [
              "<Figure size 432x288 with 1 Axes>"
            ],
            "image/png": "[encoded data removed]"
          },
          "metadata": {
            "needs_background": "light"
          }
        },
        {
          "output_type": "stream",
          "name": "stdout",
          "text": [
            "Churn\n"
          ]
        },
        {
          "output_type": "stream",
          "name": "stderr",
          "text": [
            "<string>:6: RuntimeWarning: Converting input from bool to <class 'numpy.uint8'> for compatibility.\n"
          ]
        },
        {
          "output_type": "display_data",
          "data": {
            "text/plain": [
              "<Figure size 432x288 with 1 Axes>"
            ],
            "image/png": "[encoded data removed]"
          },
          "metadata": {
            "needs_background": "light"
          }
        }
      ]
    },
    {
      "cell_type": "markdown",
      "source": [
        "Most of features have similar to normal distribution. It means higher applicability of standart classifiers.\n",
        "\n",
        "(Many basic DS approaches require data to be distributed normally to be correctly applied)"
      ],
      "metadata": {
        "id": "5x-IEjMl9Tfv"
      }
    },
    {
      "cell_type": "code",
      "source": [
        "data['Churn'].describe()"
      ],
      "metadata": {
        "colab": {
          "base_uri": "https://localhost:8080/"
        },
        "id": "TKcy1U2p_tV6",
        "outputId": "940c8be3-a38b-441e-f367-d99c3dc16d1a"
      },
      "execution_count": 6,
      "outputs": [
        {
          "output_type": "execute_result",
          "data": {
            "text/plain": [
              "count      3333\n",
              "unique        2\n",
              "top       False\n",
              "freq       2850\n",
              "Name: Churn, dtype: object"
            ]
          },
          "metadata": {},
          "execution_count": 6
        }
      ]
    },
    {
      "cell_type": "markdown",
      "source": [
        "**Data is not balanced** - special balancing techniques might be required, because the imbalance affect the performance negatively."
      ],
      "metadata": {
        "id": "kCD6o1yJ_xCv"
      }
    },
    {
      "cell_type": "markdown",
      "source": [
        "## Data Preprocessing"
      ],
      "metadata": {
        "id": "81MAhwlD9-AJ"
      }
    },
    {
      "cell_type": "code",
      "source": [
        "colnames_names = list(data.columns)"
      ],
      "metadata": {
        "id": "-LuH6bK26d-8"
      },
      "execution_count": 7,
      "outputs": []
    },
    {
      "cell_type": "code",
      "source": [
        "from sklearn import preprocessing\n",
        "\n",
        "le_State = preprocessing.LabelEncoder()\n",
        "le_State.fit(data['State'])\n",
        "\n",
        "data['State'] = le_State.transform(data['State'])\n",
        "\n",
        "data['International plan'].replace('No', 0, inplace=True)\n",
        "data['International plan'].replace('Yes', 1, inplace=True)\n",
        "\n",
        "data['Voice mail plan'].replace('No', 0, inplace=True)\n",
        "data['Voice mail plan'].replace('Yes', 1, inplace=True)"
      ],
      "metadata": {
        "id": "cCuyO4ROmyfK"
      },
      "execution_count": 8,
      "outputs": []
    },
    {
      "cell_type": "code",
      "source": [
        "x = data.loc[:, data.columns != 'Churn']\n",
        "y = data.loc[:,'Churn']"
      ],
      "metadata": {
        "id": "2HsSYRiN-mGf"
      },
      "execution_count": 9,
      "outputs": []
    },
    {
      "cell_type": "code",
      "source": [
        "x"
      ],
      "metadata": {
        "colab": {
          "base_uri": "https://localhost:8080/",
          "height": 502
        },
        "id": "zj4DWrK1oSkR",
        "outputId": "2421b7f4-2841-41b9-8c67-0da2fbd3fd69"
      },
      "execution_count": 10,
      "outputs": [
        {
          "output_type": "execute_result",
          "data": {
            "text/plain": [
              "      State  Account length  Area code  International plan  Voice mail plan  \\\n",
              "0        16             128        415                   0                1   \n",
              "1        35             107        415                   0                1   \n",
              "2        31             137        415                   0                0   \n",
              "3        35              84        408                   1                0   \n",
              "4        36              75        415                   1                0   \n",
              "...     ...             ...        ...                 ...              ...   \n",
              "3328      3             192        415                   0                1   \n",
              "3329     49              68        415                   0                0   \n",
              "3330     39              28        510                   0                0   \n",
              "3331      6             184        510                   1                0   \n",
              "3332     42              74        415                   0                1   \n",
              "\n",
              "      Number vmail messages  Total day minutes  Total day calls  \\\n",
              "0                        25              265.1              110   \n",
              "1                        26              161.6              123   \n",
              "2                         0              243.4              114   \n",
              "3                         0              299.4               71   \n",
              "4                         0              166.7              113   \n",
              "...                     ...                ...              ...   \n",
              "3328                     36              156.2               77   \n",
              "3329                      0              231.1               57   \n",
              "3330                      0              180.8              109   \n",
              "3331                      0              213.8              105   \n",
              "3332                     25              234.4              113   \n",
              "\n",
              "      Total day charge  Total eve minutes  Total eve calls  Total eve charge  \\\n",
              "0                45.07              197.4               99             16.78   \n",
              "1                27.47              195.5              103             16.62   \n",
              "2                41.38              121.2              110             10.30   \n",
              "3                50.90               61.9               88              5.26   \n",
              "4                28.34              148.3              122             12.61   \n",
              "...                ...                ...              ...               ...   \n",
              "3328             26.55              215.5              126             18.32   \n",
              "3329             39.29              153.4               55             13.04   \n",
              "3330             30.74              288.8               58             24.55   \n",
              "3331             36.35              159.6               84             13.57   \n",
              "3332             39.85              265.9               82             22.60   \n",
              "\n",
              "      Total night minutes  Total night calls  Total night charge  \\\n",
              "0                   244.7                 91               11.01   \n",
              "1                   254.4                103               11.45   \n",
              "2                   162.6                104                7.32   \n",
              "3                   196.9                 89                8.86   \n",
              "4                   186.9                121                8.41   \n",
              "...                   ...                ...                 ...   \n",
              "3328                279.1                 83               12.56   \n",
              "3329                191.3                123                8.61   \n",
              "3330                191.9                 91                8.64   \n",
              "3331                139.2                137                6.26   \n",
              "3332                241.4                 77               10.86   \n",
              "\n",
              "      Total intl minutes  Total intl calls  Total intl charge  \\\n",
              "0                   10.0                 3               2.70   \n",
              "1                   13.7                 3               3.70   \n",
              "2                   12.2                 5               3.29   \n",
              "3                    6.6                 7               1.78   \n",
              "4                   10.1                 3               2.73   \n",
              "...                  ...               ...                ...   \n",
              "3328                 9.9                 6               2.67   \n",
              "3329                 9.6                 4               2.59   \n",
              "3330                14.1                 6               3.81   \n",
              "3331                 5.0                10               1.35   \n",
              "3332                13.7                 4               3.70   \n",
              "\n",
              "      Customer service calls  \n",
              "0                          1  \n",
              "1                          1  \n",
              "2                          0  \n",
              "3                          2  \n",
              "4                          3  \n",
              "...                      ...  \n",
              "3328                       2  \n",
              "3329                       3  \n",
              "3330                       2  \n",
              "3331                       2  \n",
              "3332                       0  \n",
              "\n",
              "[3333 rows x 19 columns]"
            ],
            "text/html": [
              "\n",
              "  <div id=\"df-e6fe587b-8373-4018-9074-3bffd62c28fd\">\n",
              "    <div class=\"colab-df-container\">\n",
              "      <div>\n",
              "<style scoped>\n",
              "    .dataframe tbody tr th:only-of-type {\n",
              "        vertical-align: middle;\n",
              "    }\n",
              "\n",
              "    .dataframe tbody tr th {\n",
              "        vertical-align: top;\n",
              "    }\n",
              "\n",
              "    .dataframe thead th {\n",
              "        text-align: right;\n",
              "    }\n",
              "</style>\n",
              "<table border=\"1\" class=\"dataframe\">\n",
              "  <thead>\n",
              "    <tr style=\"text-align: right;\">\n",
              "      <th></th>\n",
              "      <th>State</th>\n",
              "      <th>Account length</th>\n",
              "      <th>Area code</th>\n",
              "      <th>International plan</th>\n",
              "      <th>Voice mail plan</th>\n",
              "      <th>Number vmail messages</th>\n",
              "      <th>Total day minutes</th>\n",
              "      <th>Total day calls</th>\n",
              "      <th>Total day charge</th>\n",
              "      <th>Total eve minutes</th>\n",
              "      <th>Total eve calls</th>\n",
              "      <th>Total eve charge</th>\n",
              "      <th>Total night minutes</th>\n",
              "      <th>Total night calls</th>\n",
              "      <th>Total night charge</th>\n",
              "      <th>Total intl minutes</th>\n",
              "      <th>Total intl calls</th>\n",
              "      <th>Total intl charge</th>\n",
              "      <th>Customer service calls</th>\n",
              "    </tr>\n",
              "  </thead>\n",
              "  <tbody>\n",
              "    <tr>\n",
              "      <th>0</th>\n",
              "      <td>16</td>\n",
              "      <td>128</td>\n",
              "      <td>415</td>\n",
              "      <td>0</td>\n",
              "      <td>1</td>\n",
              "      <td>25</td>\n",
              "      <td>265.1</td>\n",
              "      <td>110</td>\n",
              "      <td>45.07</td>\n",
              "      <td>197.4</td>\n",
              "      <td>99</td>\n",
              "      <td>16.78</td>\n",
              "      <td>244.7</td>\n",
              "      <td>91</td>\n",
              "      <td>11.01</td>\n",
              "      <td>10.0</td>\n",
              "      <td>3</td>\n",
              "      <td>2.70</td>\n",
              "      <td>1</td>\n",
              "    </tr>\n",
              "    <tr>\n",
              "      <th>1</th>\n",
              "      <td>35</td>\n",
              "      <td>107</td>\n",
              "      <td>415</td>\n",
              "      <td>0</td>\n",
              "      <td>1</td>\n",
              "      <td>26</td>\n",
              "      <td>161.6</td>\n",
              "      <td>123</td>\n",
              "      <td>27.47</td>\n",
              "      <td>195.5</td>\n",
              "      <td>103</td>\n",
              "      <td>16.62</td>\n",
              "      <td>254.4</td>\n",
              "      <td>103</td>\n",
              "      <td>11.45</td>\n",
              "      <td>13.7</td>\n",
              "      <td>3</td>\n",
              "      <td>3.70</td>\n",
              "      <td>1</td>\n",
              "    </tr>\n",
              "    <tr>\n",
              "      <th>2</th>\n",
              "      <td>31</td>\n",
              "      <td>137</td>\n",
              "      <td>415</td>\n",
              "      <td>0</td>\n",
              "      <td>0</td>\n",
              "      <td>0</td>\n",
              "      <td>243.4</td>\n",
              "      <td>114</td>\n",
              "      <td>41.38</td>\n",
              "      <td>121.2</td>\n",
              "      <td>110</td>\n",
              "      <td>10.30</td>\n",
              "      <td>162.6</td>\n",
              "      <td>104</td>\n",
              "      <td>7.32</td>\n",
              "      <td>12.2</td>\n",
              "      <td>5</td>\n",
              "      <td>3.29</td>\n",
              "      <td>0</td>\n",
              "    </tr>\n",
              "    <tr>\n",
              "      <th>3</th>\n",
              "      <td>35</td>\n",
              "      <td>84</td>\n",
              "      <td>408</td>\n",
              "      <td>1</td>\n",
              "      <td>0</td>\n",
              "      <td>0</td>\n",
              "      <td>299.4</td>\n",
              "      <td>71</td>\n",
              "      <td>50.90</td>\n",
              "      <td>61.9</td>\n",
              "      <td>88</td>\n",
              "      <td>5.26</td>\n",
              "      <td>196.9</td>\n",
              "      <td>89</td>\n",
              "      <td>8.86</td>\n",
              "      <td>6.6</td>\n",
              "      <td>7</td>\n",
              "      <td>1.78</td>\n",
              "      <td>2</td>\n",
              "    </tr>\n",
              "    <tr>\n",
              "      <th>4</th>\n",
              "      <td>36</td>\n",
              "      <td>75</td>\n",
              "      <td>415</td>\n",
              "      <td>1</td>\n",
              "      <td>0</td>\n",
              "      <td>0</td>\n",
              "      <td>166.7</td>\n",
              "      <td>113</td>\n",
              "      <td>28.34</td>\n",
              "      <td>148.3</td>\n",
              "      <td>122</td>\n",
              "      <td>12.61</td>\n",
              "      <td>186.9</td>\n",
              "      <td>121</td>\n",
              "      <td>8.41</td>\n",
              "      <td>10.1</td>\n",
              "      <td>3</td>\n",
              "      <td>2.73</td>\n",
              "      <td>3</td>\n",
              "    </tr>\n",
              "    <tr>\n",
              "      <th>...</th>\n",
              "      <td>...</td>\n",
              "      <td>...</td>\n",
              "      <td>...</td>\n",
              "      <td>...</td>\n",
              "      <td>...</td>\n",
              "      <td>...</td>\n",
              "      <td>...</td>\n",
              "      <td>...</td>\n",
              "      <td>...</td>\n",
              "      <td>...</td>\n",
              "      <td>...</td>\n",
              "      <td>...</td>\n",
              "      <td>...</td>\n",
              "      <td>...</td>\n",
              "      <td>...</td>\n",
              "      <td>...</td>\n",
              "      <td>...</td>\n",
              "      <td>...</td>\n",
              "      <td>...</td>\n",
              "    </tr>\n",
              "    <tr>\n",
              "      <th>3328</th>\n",
              "      <td>3</td>\n",
              "      <td>192</td>\n",
              "      <td>415</td>\n",
              "      <td>0</td>\n",
              "      <td>1</td>\n",
              "      <td>36</td>\n",
              "      <td>156.2</td>\n",
              "      <td>77</td>\n",
              "      <td>26.55</td>\n",
              "      <td>215.5</td>\n",
              "      <td>126</td>\n",
              "      <td>18.32</td>\n",
              "      <td>279.1</td>\n",
              "      <td>83</td>\n",
              "      <td>12.56</td>\n",
              "      <td>9.9</td>\n",
              "      <td>6</td>\n",
              "      <td>2.67</td>\n",
              "      <td>2</td>\n",
              "    </tr>\n",
              "    <tr>\n",
              "      <th>3329</th>\n",
              "      <td>49</td>\n",
              "      <td>68</td>\n",
              "      <td>415</td>\n",
              "      <td>0</td>\n",
              "      <td>0</td>\n",
              "      <td>0</td>\n",
              "      <td>231.1</td>\n",
              "      <td>57</td>\n",
              "      <td>39.29</td>\n",
              "      <td>153.4</td>\n",
              "      <td>55</td>\n",
              "      <td>13.04</td>\n",
              "      <td>191.3</td>\n",
              "      <td>123</td>\n",
              "      <td>8.61</td>\n",
              "      <td>9.6</td>\n",
              "      <td>4</td>\n",
              "      <td>2.59</td>\n",
              "      <td>3</td>\n",
              "    </tr>\n",
              "    <tr>\n",
              "      <th>3330</th>\n",
              "      <td>39</td>\n",
              "      <td>28</td>\n",
              "      <td>510</td>\n",
              "      <td>0</td>\n",
              "      <td>0</td>\n",
              "      <td>0</td>\n",
              "      <td>180.8</td>\n",
              "      <td>109</td>\n",
              "      <td>30.74</td>\n",
              "      <td>288.8</td>\n",
              "      <td>58</td>\n",
              "      <td>24.55</td>\n",
              "      <td>191.9</td>\n",
              "      <td>91</td>\n",
              "      <td>8.64</td>\n",
              "      <td>14.1</td>\n",
              "      <td>6</td>\n",
              "      <td>3.81</td>\n",
              "      <td>2</td>\n",
              "    </tr>\n",
              "    <tr>\n",
              "      <th>3331</th>\n",
              "      <td>6</td>\n",
              "      <td>184</td>\n",
              "      <td>510</td>\n",
              "      <td>1</td>\n",
              "      <td>0</td>\n",
              "      <td>0</td>\n",
              "      <td>213.8</td>\n",
              "      <td>105</td>\n",
              "      <td>36.35</td>\n",
              "      <td>159.6</td>\n",
              "      <td>84</td>\n",
              "      <td>13.57</td>\n",
              "      <td>139.2</td>\n",
              "      <td>137</td>\n",
              "      <td>6.26</td>\n",
              "      <td>5.0</td>\n",
              "      <td>10</td>\n",
              "      <td>1.35</td>\n",
              "      <td>2</td>\n",
              "    </tr>\n",
              "    <tr>\n",
              "      <th>3332</th>\n",
              "      <td>42</td>\n",
              "      <td>74</td>\n",
              "      <td>415</td>\n",
              "      <td>0</td>\n",
              "      <td>1</td>\n",
              "      <td>25</td>\n",
              "      <td>234.4</td>\n",
              "      <td>113</td>\n",
              "      <td>39.85</td>\n",
              "      <td>265.9</td>\n",
              "      <td>82</td>\n",
              "      <td>22.60</td>\n",
              "      <td>241.4</td>\n",
              "      <td>77</td>\n",
              "      <td>10.86</td>\n",
              "      <td>13.7</td>\n",
              "      <td>4</td>\n",
              "      <td>3.70</td>\n",
              "      <td>0</td>\n",
              "    </tr>\n",
              "  </tbody>\n",
              "</table>\n",
              "<p>3333 rows × 19 columns</p>\n",
              "</div>\n",
              "      <button class=\"colab-df-convert\" onclick=\"convertToInteractive('df-e6fe587b-8373-4018-9074-3bffd62c28fd')\"\n",
              "              title=\"Convert this dataframe to an interactive table.\"\n",
              "              style=\"display:none;\">\n",
              "        \n",
              "  <svg xmlns=\"http://www.w3.org/2000/svg\" height=\"24px\"viewBox=\"0 0 24 24\"\n",
              "       width=\"24px\">\n",
              "    <path d=\"M0 0h24v24H0V0z\" fill=\"none\"/>\n",
              "    <path d=\"M18.56 5.44l.94 2.06.94-2.06 2.06-.94-2.06-.94-.94-2.06-.94 2.06-2.06.94zm-11 1L8.5 8.5l.94-2.06 2.06-.94-2.06-.94L8.5 2.5l-.94 2.06-2.06.94zm10 10l.94 2.06.94-2.06 2.06-.94-2.06-.94-.94-2.06-.94 2.06-2.06.94z\"/><path d=\"M17.41 7.96l-1.37-1.37c-.4-.4-.92-.59-1.43-.59-.52 0-1.04.2-1.43.59L10.3 9.45l-7.72 7.72c-.78.78-.78 2.05 0 2.83L4 21.41c.39.39.9.59 1.41.59.51 0 1.02-.2 1.41-.59l7.78-7.78 2.81-2.81c.8-.78.8-2.07 0-2.86zM5.41 20L4 18.59l7.72-7.72 1.47 1.35L5.41 20z\"/>\n",
              "  </svg>\n",
              "      </button>\n",
              "      \n",
              "  <style>\n",
              "    .colab-df-container {\n",
              "      display:flex;\n",
              "      flex-wrap:wrap;\n",
              "      gap: 12px;\n",
              "    }\n",
              "\n",
              "    .colab-df-convert {\n",
              "      background-color: #E8F0FE;\n",
              "      border: none;\n",
              "      border-radius: 50%;\n",
              "      cursor: pointer;\n",
              "      display: none;\n",
              "      fill: #1967D2;\n",
              "      height: 32px;\n",
              "      padding: 0 0 0 0;\n",
              "      width: 32px;\n",
              "    }\n",
              "\n",
              "    .colab-df-convert:hover {\n",
              "      background-color: #E2EBFA;\n",
              "      box-shadow: 0px 1px 2px rgba(60, 64, 67, 0.3), 0px 1px 3px 1px rgba(60, 64, 67, 0.15);\n",
              "      fill: #174EA6;\n",
              "    }\n",
              "\n",
              "    [theme=dark] .colab-df-convert {\n",
              "      background-color: #3B4455;\n",
              "      fill: #D2E3FC;\n",
              "    }\n",
              "\n",
              "    [theme=dark] .colab-df-convert:hover {\n",
              "      background-color: #434B5C;\n",
              "      box-shadow: 0px 1px 3px 1px rgba(0, 0, 0, 0.15);\n",
              "      filter: drop-shadow(0px 1px 2px rgba(0, 0, 0, 0.3));\n",
              "      fill: #FFFFFF;\n",
              "    }\n",
              "  </style>\n",
              "\n",
              "      <script>\n",
              "        const buttonEl =\n",
              "          document.querySelector('#df-e6fe587b-8373-4018-9074-3bffd62c28fd button.colab-df-convert');\n",
              "        buttonEl.style.display =\n",
              "          google.colab.kernel.accessAllowed ? 'block' : 'none';\n",
              "\n",
              "        async function convertToInteractive(key) {\n",
              "          const element = document.querySelector('#df-e6fe587b-8373-4018-9074-3bffd62c28fd');\n",
              "          const dataTable =\n",
              "            await google.colab.kernel.invokeFunction('convertToInteractive',\n",
              "                                                     [key], {});\n",
              "          if (!dataTable) return;\n",
              "\n",
              "          const docLinkHtml = 'Like what you see? Visit the ' +\n",
              "            '<a target=\"_blank\" href=https://colab.research.google.com/notebooks/data_table.ipynb>data table notebook</a>'\n",
              "            + ' to learn more about interactive tables.';\n",
              "          element.innerHTML = '';\n",
              "          dataTable['output_type'] = 'display_data';\n",
              "          await google.colab.output.renderOutput(dataTable, element);\n",
              "          const docLink = document.createElement('div');\n",
              "          docLink.innerHTML = docLinkHtml;\n",
              "          element.appendChild(docLink);\n",
              "        }\n",
              "      </script>\n",
              "    </div>\n",
              "  </div>\n",
              "  "
            ]
          },
          "metadata": {},
          "execution_count": 10
        }
      ]
    },
    {
      "cell_type": "code",
      "source": [
        "import matplotlib.pyplot as plt\n",
        "\n",
        "fig, ax = plt.subplots(figsize=(30,30))     \n",
        "\n",
        "# covMatrix = np.cov(x,bias=True)\n",
        "covMatrix = x.corr()\n",
        "sns.heatmap(covMatrix, annot=True, fmt='g', ax=ax)\n",
        "plt.show()"
      ],
      "metadata": {
        "colab": {
          "base_uri": "https://localhost:8080/",
          "height": 1000
        },
        "id": "YJltAyLFGj-h",
        "outputId": "ad431fb5-d63c-4b5e-97e0-37e6ced744e8"
      },
      "execution_count": null,
      "outputs": [
        {
          "output_type": "display_data",
          "data": {
            "text/plain": [
              "<Figure size 2160x2160 with 2 Axes>"
            ],
            "image/png": "[encoded data removed]"
          },
          "metadata": {
            "needs_background": "light"
          }
        }
      ]
    },
    {
      "cell_type": "markdown",
      "source": [
        "There is multicolinearity in the data. It should not affect the performance of classifier. Multicolinearity is an issue in terms of inpretability of the model - multicillinearity affects p-value and feature selection. \n",
        "\n",
        "But to be sure - we'll apply Variance Inflation Factors test:"
      ],
      "metadata": {
        "id": "BrDIMxpd5UfM"
      }
    },
    {
      "cell_type": "code",
      "source": [
        "from statsmodels.stats.outliers_influence import variance_inflation_factor\n",
        "\n",
        "pd.Series([variance_inflation_factor(x.values, i) for i in range(x.shape[1])], index=x.columns)"
      ],
      "metadata": {
        "colab": {
          "base_uri": "https://localhost:8080/"
        },
        "id": "cb9QYDhO7RV8",
        "outputId": "ef88e4f1-5b62-4e82-e858-8bcb0425a19c"
      },
      "execution_count": 29,
      "outputs": [
        {
          "output_type": "execute_result",
          "data": {
            "text/plain": [
              "State                     4.067811e+00\n",
              "Account length            7.304094e+00\n",
              "Area code                 6.179770e+01\n",
              "International plan        1.117461e+00\n",
              "Voice mail plan           1.646274e+01\n",
              "Number vmail messages     1.607316e+01\n",
              "Total day minutes         1.246264e+08\n",
              "Total day calls           2.364207e+01\n",
              "Total day charge          1.246309e+08\n",
              "Total eve minutes         3.743103e+07\n",
              "Total eve calls           2.376012e+01\n",
              "Total eve charge          3.743234e+07\n",
              "Total night minutes       1.072038e+07\n",
              "Total night calls         2.466674e+01\n",
              "Total night charge        1.072003e+07\n",
              "Total intl minutes        9.983928e+05\n",
              "Total intl calls          4.278624e+00\n",
              "Total intl charge         9.987617e+05\n",
              "Customer service calls    2.406210e+00\n",
              "dtype: float64"
            ]
          },
          "metadata": {},
          "execution_count": 29
        }
      ]
    },
    {
      "cell_type": "markdown",
      "source": [
        "Area code, Voice mail plan, Number vmail messages, Total day minutes, Total day calls, Total day charge, Total eve minutes, Total eve calls, Total eve charge, Total night minutes, Total night calls, Total night charge, Total intl minutes, Total intl charge - are out of threshold of VIF\n",
        "\n",
        "In the last section there will be a hypothesis testing of dealing with multicillinearity. Thou it should not change the performance of classifier"
      ],
      "metadata": {
        "id": "6FPEONOr-rZW"
      }
    },
    {
      "cell_type": "code",
      "source": [
        "from sklearn.model_selection import train_test_split\n",
        "\n",
        "X_train, X_test, y_train, y_test = train_test_split(x, y, test_size=0.20)"
      ],
      "metadata": {
        "id": "_8l-iKWr-YVv"
      },
      "execution_count": null,
      "outputs": []
    },
    {
      "cell_type": "code",
      "source": [
        "len(X_train)"
      ],
      "metadata": {
        "colab": {
          "base_uri": "https://localhost:8080/"
        },
        "id": "0x0FHPnYAY1F",
        "outputId": "de30f3b1-7c1b-47de-d664-0fe6be315af4"
      },
      "execution_count": null,
      "outputs": [
        {
          "output_type": "execute_result",
          "data": {
            "text/plain": [
              "2666"
            ]
          },
          "metadata": {},
          "execution_count": 13
        }
      ]
    },
    {
      "cell_type": "code",
      "source": [
        "len(X_test)"
      ],
      "metadata": {
        "colab": {
          "base_uri": "https://localhost:8080/"
        },
        "id": "MCMUfURAAehL",
        "outputId": "062ec117-4d51-4ec6-c57e-84d6725b637c"
      },
      "execution_count": null,
      "outputs": [
        {
          "output_type": "execute_result",
          "data": {
            "text/plain": [
              "667"
            ]
          },
          "metadata": {},
          "execution_count": 14
        }
      ]
    },
    {
      "cell_type": "markdown",
      "source": [
        "## Classification"
      ],
      "metadata": {
        "id": "3kcJfoVi96QJ"
      }
    },
    {
      "cell_type": "code",
      "source": [
        "!pip install lazypredict"
      ],
      "metadata": {
        "id": "s5N9XC1W7GrM"
      },
      "execution_count": null,
      "outputs": []
    },
    {
      "cell_type": "code",
      "source": [
        "!pip uninstall scikit-learn -y\n",
        "!pip install scikit-learn==0.23.1"
      ],
      "metadata": {
        "id": "KaI3VD07ozWL"
      },
      "execution_count": null,
      "outputs": []
    },
    {
      "cell_type": "code",
      "source": [
        "from sklearn.metrics import log_loss, f1_score, roc_curve, auc\n",
        "from sklearn.metrics import accuracy_score, classification_report, confusion_matrix\n",
        "from matplotlib import pyplot as plt"
      ],
      "metadata": {
        "id": "3oqgMTKq7KkR"
      },
      "execution_count": null,
      "outputs": []
    },
    {
      "cell_type": "code",
      "source": [
        "from lazypredict.Supervised import LazyClassifier"
      ],
      "metadata": {
        "colab": {
          "base_uri": "https://localhost:8080/"
        },
        "id": "AMXvVPiioe15",
        "outputId": "a6efc821-c46c-4a59-c925-1e2af32cf107"
      },
      "execution_count": null,
      "outputs": [
        {
          "output_type": "stream",
          "name": "stderr",
          "text": [
            "/usr/local/lib/python3.7/dist-packages/sklearn/utils/deprecation.py:143: FutureWarning: The sklearn.utils.testing module is  deprecated in version 0.22 and will be removed in version 0.24. The corresponding classes / functions should instead be imported from sklearn.utils. Anything that cannot be imported from sklearn.utils is now part of the private API.\n",
            "  warnings.warn(message, FutureWarning)\n"
          ]
        }
      ]
    },
    {
      "cell_type": "code",
      "source": [
        "clf = LazyClassifier(verbose=0,ignore_warnings=True, custom_metric=None)\n",
        "models,predictions = clf.fit(X_train, X_test, y_train, y_test)\n",
        "\n",
        "print(models)"
      ],
      "metadata": {
        "colab": {
          "base_uri": "https://localhost:8080/"
        },
        "id": "0wljmHDSpKt6",
        "outputId": "07751c11-1421-486c-b095-329d8f6dd012"
      },
      "execution_count": null,
      "outputs": [
        {
          "output_type": "stream",
          "name": "stderr",
          "text": [
            "100%|██████████| 29/29 [00:08<00:00,  3.60it/s]"
          ]
        },
        {
          "output_type": "stream",
          "name": "stdout",
          "text": [
            "                               Accuracy  Balanced Accuracy  ROC AUC  F1 Score  \\\n",
            "Model                                                                           \n",
            "LGBMClassifier                     0.96               0.87     0.87      0.96   \n",
            "XGBClassifier                      0.95               0.87     0.87      0.95   \n",
            "BaggingClassifier                  0.95               0.86     0.86      0.94   \n",
            "RandomForestClassifier             0.95               0.85     0.85      0.94   \n",
            "DecisionTreeClassifier             0.92               0.84     0.84      0.92   \n",
            "ExtraTreesClassifier               0.92               0.75     0.75      0.91   \n",
            "GaussianNB                         0.87               0.74     0.74      0.87   \n",
            "QuadraticDiscriminantAnalysis      0.87               0.73     0.73      0.87   \n",
            "NearestCentroid                    0.76               0.73     0.73      0.79   \n",
            "SVC                                0.91               0.73     0.73      0.90   \n",
            "ExtraTreeClassifier                0.84               0.69     0.69      0.84   \n",
            "AdaBoostClassifier                 0.87               0.65     0.65      0.86   \n",
            "KNeighborsClassifier               0.89               0.65     0.65      0.87   \n",
            "LabelSpreading                     0.84               0.64     0.64      0.83   \n",
            "LabelPropagation                   0.84               0.64     0.64      0.83   \n",
            "LinearDiscriminantAnalysis         0.86               0.62     0.62      0.84   \n",
            "SGDClassifier                      0.86               0.60     0.60      0.83   \n",
            "LogisticRegression                 0.86               0.59     0.59      0.83   \n",
            "CalibratedClassifierCV             0.86               0.58     0.58      0.83   \n",
            "Perceptron                         0.72               0.58     0.58      0.75   \n",
            "LinearSVC                          0.86               0.57     0.57      0.82   \n",
            "PassiveAggressiveClassifier        0.77               0.55     0.55      0.77   \n",
            "BernoulliNB                        0.85               0.55     0.55      0.81   \n",
            "RidgeClassifier                    0.85               0.55     0.55      0.81   \n",
            "RidgeClassifierCV                  0.85               0.55     0.55      0.81   \n",
            "DummyClassifier                    0.74               0.49     0.49      0.74   \n",
            "\n",
            "                               Time Taken  \n",
            "Model                                      \n",
            "LGBMClassifier                       0.91  \n",
            "XGBClassifier                        1.22  \n",
            "BaggingClassifier                    0.35  \n",
            "RandomForestClassifier               0.91  \n",
            "DecisionTreeClassifier               0.10  \n",
            "ExtraTreesClassifier                 0.44  \n",
            "GaussianNB                           0.02  \n",
            "QuadraticDiscriminantAnalysis        0.02  \n",
            "NearestCentroid                      0.02  \n",
            "SVC                                  0.33  \n",
            "ExtraTreeClassifier                  0.03  \n",
            "AdaBoostClassifier                   0.40  \n",
            "KNeighborsClassifier                 0.15  \n",
            "LabelSpreading                       0.63  \n",
            "LabelPropagation                     0.52  \n",
            "LinearDiscriminantAnalysis           0.05  \n",
            "SGDClassifier                        0.08  \n",
            "LogisticRegression                   0.04  \n",
            "CalibratedClassifierCV               1.10  \n",
            "Perceptron                           0.03  \n",
            "LinearSVC                            0.31  \n",
            "PassiveAggressiveClassifier          0.02  \n",
            "BernoulliNB                          0.03  \n",
            "RidgeClassifier                      0.05  \n",
            "RidgeClassifierCV                    0.09  \n",
            "DummyClassifier                      0.02  \n"
          ]
        },
        {
          "output_type": "stream",
          "name": "stderr",
          "text": [
            "\n"
          ]
        }
      ]
    },
    {
      "cell_type": "code",
      "source": [
        "models = clf.provide_models(X_train, X_test, y_train, y_test)\n",
        "predictions = models['BaggingClassifier'].predict(X_test)\n",
        "\n",
        "print(sum([predictions[i] == np.array(y_test)[i] for i in range(len(X_test))]), len(X_test))"
      ],
      "metadata": {
        "colab": {
          "base_uri": "https://localhost:8080/"
        },
        "id": "2jNaE8Sjp5mv",
        "outputId": "402ba693-3a77-4404-f818-ae6434e91e86"
      },
      "execution_count": null,
      "outputs": [
        {
          "output_type": "stream",
          "name": "stdout",
          "text": [
            "631 667\n"
          ]
        }
      ]
    },
    {
      "cell_type": "markdown",
      "source": [
        "## Evaluation"
      ],
      "metadata": {
        "id": "HF0QvWOE-FgN"
      }
    },
    {
      "cell_type": "code",
      "source": [
        "from sklearn.metrics import f1_score\n",
        "import matplotlib.pyplot as plt\n",
        "import seaborn as sns\n",
        "\n",
        "def eval(y_true, y_pred):\n",
        "    print('Classification Report:')\n",
        "    print(classification_report(y_true, y_pred, labels=[1,0], digits=4))\n",
        "    \n",
        "    cm = confusion_matrix(y_true, y_pred, labels=[1,0])\n",
        "    ax= plt.subplot()\n",
        "    sns.heatmap(cm, annot=True, ax = ax, cmap='Blues', fmt=\"d\")\n",
        "\n",
        "    ax.set_title('Confusion Matrix')\n",
        "\n",
        "    ax.set_xlabel('Predicted Labels')\n",
        "    ax.set_ylabel('True Labels')\n",
        "\n",
        "    ax.xaxis.set_ticklabels(['FAKE', 'REAL'])\n",
        "    ax.yaxis.set_ticklabels(['FAKE', 'REAL'])"
      ],
      "metadata": {
        "id": "1e3EIVMY-H0C"
      },
      "execution_count": null,
      "outputs": []
    },
    {
      "cell_type": "code",
      "source": [
        "print(\"F-measure or f1-score: \", f1_score(y_test, predictions))\n",
        "\n",
        "fpr, tpr, thresholds = roc_curve(y_test, predictions)\n",
        "\n",
        "print(\"AUC: \", auc(fpr, tpr))\n",
        "\n",
        "eval(y_test, predictions)"
      ],
      "metadata": {
        "colab": {
          "base_uri": "https://localhost:8080/",
          "height": 503
        },
        "id": "adJR7PvQqlPn",
        "outputId": "8b5f5355-01c0-461f-b186-8d2a01dee24e"
      },
      "execution_count": null,
      "outputs": [
        {
          "output_type": "stream",
          "name": "stdout",
          "text": [
            "F-measure or f1-score:  0.8021978021978021\n",
            "AUC:  0.8598840517854603\n",
            "Classification Report:\n",
            "              precision    recall  f1-score   support\n",
            "\n",
            "           1     0.8795    0.7374    0.8022        99\n",
            "           0     0.9555    0.9824    0.9688       568\n",
            "\n",
            "    accuracy                         0.9460       667\n",
            "   macro avg     0.9175    0.8599    0.8855       667\n",
            "weighted avg     0.9442    0.9460    0.9440       667\n",
            "\n"
          ]
        },
        {
          "output_type": "display_data",
          "data": {
            "text/plain": [
              "<Figure size 432x288 with 2 Axes>"
            ],
            "image/png": "[encoded data removed]"
          },
          "metadata": {
            "needs_background": "light"
          }
        }
      ]
    },
    {
      "cell_type": "markdown",
      "source": [
        "### Best model parameter tuning and evaluation"
      ],
      "metadata": {
        "id": "jbe_2mNBrhmb"
      }
    },
    {
      "cell_type": "markdown",
      "source": [
        "Now we'll explore the best model chosen by its optimal trade-off between its AUC and computational time - BaggingClassifier"
      ],
      "metadata": {
        "id": "UfEYUcJbrSQW"
      }
    },
    {
      "cell_type": "code",
      "source": [
        "import numpy as np\n",
        "import matplotlib.pyplot as plt\n",
        "from matplotlib.colors import ListedColormap\n",
        "%matplotlib inline\n",
        "\n",
        "from ipywidgets import interact, FloatSlider, Dropdown, IntSlider, Checkbox\n"
      ],
      "metadata": {
        "id": "H2UMVqJlrlc6"
      },
      "execution_count": 11,
      "outputs": []
    },
    {
      "cell_type": "code",
      "source": [
        "from sklearn.metrics import f1_score\n",
        "import matplotlib.pyplot as plt\n",
        "import seaborn as sns\n",
        "from sklearn.svm import SVC\n",
        "from sklearn.ensemble import BaggingClassifier\n",
        "\n",
        "\n",
        "def tune_best_model(base_estimator, n_estimators, bootstrap):\n",
        "    print('training started')\n",
        "    clf = BaggingClassifier(base_estimator=base_estimator,\n",
        "                            n_estimators=n_estimators, bootstrap = bootstrap).fit(X_train, y_train)\n",
        "    y_pred=clf.predict(X_test)\n",
        "    print('training started')\n",
        "\n",
        "    print('Classification Report:')\n",
        "    print(classification_report(y_test, y_pred, labels=[1,0], digits=4))\n",
        "    \n",
        "    cm = confusion_matrix(y_test, y_pred, labels=[1,0])\n",
        "    ax= plt.subplot()\n",
        "    sns.heatmap(cm, annot=True, ax = ax, cmap='Blues', fmt=\"d\")\n",
        "\n",
        "    ax.set_title('Confusion Matrix')\n",
        "\n",
        "    ax.set_xlabel('Predicted Labels')\n",
        "    ax.set_ylabel('True Labels')\n",
        "\n",
        "    ax.xaxis.set_ticklabels(['FAKE', 'REAL'])\n",
        "    ax.yaxis.set_ticklabels(['FAKE', 'REAL'])"
      ],
      "metadata": {
        "id": "tNxLqJ_qvEAu"
      },
      "execution_count": 12,
      "outputs": []
    },
    {
      "cell_type": "code",
      "source": [
        "from sklearn.dummy import DummyClassifier, DummyRegressor\n",
        "from sklearn.model_selection import GridSearchCV, ParameterGrid\n",
        "from sklearn.ensemble import BaggingClassifier, BaggingRegressor\n",
        "from sklearn.linear_model import Perceptron, LogisticRegression\n",
        "from sklearn.neighbors import KNeighborsClassifier, KNeighborsRegressor\n",
        "from sklearn.tree import DecisionTreeClassifier, DecisionTreeRegressor\n",
        "from sklearn.svm import SVC, SVR\n",
        "from sklearn.random_projection import SparseRandomProjection\n",
        "\n",
        "interact(tune_best_model, \n",
        "         base_estimator=Dropdown(options=[None,\n",
        "                           DummyClassifier(),\n",
        "                           Perceptron(tol=1e-3),\n",
        "                           DecisionTreeClassifier(),\n",
        "                           KNeighborsClassifier(),\n",
        "                           SVC(gamma=\"scale\")]),\n",
        "         bootstrap=Dropdown(options=[True, False]),\n",
        "         n_estimators=IntSlider(min=1, max=50, step=1, value=10))"
      ],
      "metadata": {
        "colab": {
          "base_uri": "https://localhost:8080/",
          "height": 617,
          "referenced_widgets": [
            "c38eca7ebde44ea6afcd98dba1adcb7f",
            "9832acb4be7446f190f67b860abc01d9",
            "e23f045eae4544099d1a683b656a4e68",
            "1278d8568f3143149f2b00297e6486a6",
            "a50da5732996437ca3142908b2ea5676",
            "e0a37f85ab184fe892c636f0ba108285",
            "16b3b47df8fe498caa3e6d0226dab182",
            "0867a9d189a04317b535852485d9b2ea",
            "a39b6e9745e14a74bfd328d48ba21a05",
            "fe8f81c22bf2429caa01b3c7300a7fc3",
            "f7e2181f945f454c96187a39a594007c",
            "245b7c98989248f2a8e786f6fdc2bf09",
            "9e03241971e348288afeacc1650b9169"
          ]
        },
        "id": "WdMu94pFu10i",
        "outputId": "126a7a14-df9e-46e3-c901-35f93f5f1056"
      },
      "execution_count": null,
      "outputs": [
        {
          "output_type": "display_data",
          "data": {
            "text/plain": [
              "interactive(children=(Dropdown(description='base_estimator', options=(None, DummyClassifier(), Perceptron(), D…"
            ],
            "application/vnd.jupyter.widget-view+json": {
              "version_major": 2,
              "version_minor": 0,
              "model_id": "c38eca7ebde44ea6afcd98dba1adcb7f"
            }
          },
          "metadata": {}
        },
        {
          "output_type": "execute_result",
          "data": {
            "text/plain": [
              "<function __main__.tune_best_model>"
            ]
          },
          "metadata": {},
          "execution_count": 47
        }
      ]
    },
    {
      "cell_type": "markdown",
      "source": [
        "Parameter tuning has highlighted - default parameters of BaggingClassifier performed better then the rest of parameters. LazyPredict performed well as well because it had used pipeline with empty parameters for BaggingClassifier(), therefore default parameters were invoked."
      ],
      "metadata": {
        "id": "UC_NnlgZBlkU"
      }
    },
    {
      "cell_type": "markdown",
      "source": [
        "## Save model weights and parameters"
      ],
      "metadata": {
        "id": "P-uAF-WaCb7L"
      }
    },
    {
      "cell_type": "code",
      "source": [
        "clf = BaggingClassifier().fit(X_train, y_train)"
      ],
      "metadata": {
        "id": "6alGZV30CaUv"
      },
      "execution_count": null,
      "outputs": []
    },
    {
      "cell_type": "code",
      "source": [
        "import pickle\n",
        "\n",
        "filename = 'model.sav'\n",
        "pickle.dump(clf, open(filename, 'wb'))"
      ],
      "metadata": {
        "id": "3LgFe73YD_MJ"
      },
      "execution_count": null,
      "outputs": []
    },
    {
      "cell_type": "markdown",
      "source": [
        "\n",
        "\n",
        "---\n",
        "\n",
        "## Hypothesis testing "
      ],
      "metadata": {
        "id": "944JR27aHvi6"
      }
    },
    {
      "cell_type": "code",
      "source": [
        "x_hypothesis = x.copy()"
      ],
      "metadata": {
        "id": "2L0VmX7SH0jl"
      },
      "execution_count": 13,
      "outputs": []
    },
    {
      "cell_type": "code",
      "source": [
        "from statsmodels.stats.outliers_influence import variance_inflation_factor\n",
        "from statsmodels.tools.tools import add_constant\n",
        "\n",
        "def interact_vif(feature_1, feature_2, feature_3, feature_4, feature_5, feature_6, feature_7, feature_8, feature_9, feature_10, feature_11, feature_12, feature_13, feature_14, feature_15, feature_16, feature_17, feature_18, feature_19):\n",
        "  considered_features = []\n",
        "  if feature_1:\n",
        "    considered_features.append('State')\n",
        "  if feature_2:\n",
        "    considered_features.append('Account length')\n",
        "  if feature_3:\n",
        "    considered_features.append('Area code')\n",
        "  if feature_4:\n",
        "    considered_features.append('International plan')\n",
        "  if feature_5:\n",
        "    considered_features.append('Voice mail plan')\n",
        "  if feature_6:\n",
        "    considered_features.append('Number vmail messages')\n",
        "  if feature_7:\n",
        "    considered_features.append('Total day minutes')\n",
        "  if feature_8:\n",
        "    considered_features.append('Total day calls')\n",
        "  if feature_9:\n",
        "    considered_features.append('Total day charge')\n",
        "  if feature_10:\n",
        "    considered_features.append('Total eve minutes')\n",
        "  if feature_11:\n",
        "    considered_features.append('Total eve calls')\n",
        "  if feature_12:\n",
        "    considered_features.append('Total eve charge')\n",
        "  if feature_13:\n",
        "    considered_features.append('Total night minutes')\n",
        "  if feature_14:\n",
        "    considered_features.append('Total night calls')\n",
        "  if feature_15:\n",
        "    considered_features.append('Total night charge')\n",
        "  if feature_16:\n",
        "    considered_features.append('Total intl minutes')\n",
        "  if feature_17:\n",
        "    considered_features.append('Total intl calls')\n",
        "  if feature_18:\n",
        "    considered_features.append('Total intl charge')\n",
        "  if feature_19:\n",
        "    considered_features.append('Customer service calls')\n",
        "  compute_vif(considered_features).sort_values('VIF', ascending=False)\n",
        "\n",
        "\n",
        "def compute_vif(considered_features):\n",
        "    \n",
        "    X = x_hypothesis[considered_features]\n",
        "    X['intercept'] = 1\n",
        "    \n",
        "    vif = pd.DataFrame()\n",
        "    vif[\"Variable\"] = X.columns\n",
        "    vif[\"VIF\"] = [variance_inflation_factor(X.values, i) for i in range(X.shape[1])]\n",
        "    vif = vif[vif['Variable']!='intercept']\n",
        "    print(vif)"
      ],
      "metadata": {
        "id": "YeDJ1D1II86W"
      },
      "execution_count": 17,
      "outputs": []
    },
    {
      "cell_type": "code",
      "source": [
        "def compute_vif(considered_features):\n",
        "    \n",
        "    X = x_hypothesis[considered_features]\n",
        "    X['intercept'] = 1\n",
        "    \n",
        "    vif = pd.DataFrame()\n",
        "    vif[\"Variable\"] = X.columns\n",
        "    vif[\"VIF\"] = [variance_inflation_factor(X.values, i) for i in range(X.shape[1])]\n",
        "    vif = vif[vif['Variable']!='intercept']\n",
        "    print(vif)\n",
        "    return vif"
      ],
      "metadata": {
        "id": "wRSATRVFRS7C"
      },
      "execution_count": 21,
      "outputs": []
    },
    {
      "cell_type": "code",
      "source": [
        "considered_features = ['State',\t'Account length',\t'Area code',\t'International plan',\t'Voice mail plan',\t'Number vmail messages',\t\n",
        "                       'Total day minutes',\t'Total day calls',\t'Total day charge',\t'Total eve minutes',\t'Total eve calls',\n",
        "                       'Total eve charge',\t'Total night minutes',\t'Total night calls',\t'Total night charge',\t'Total intl minutes',\n",
        "                       'Total intl calls',\t'Total intl charge',\t'Customer service calls']\n",
        "\n",
        "compute_vif(considered_features).sort_values('VIF', ascending=False)"
      ],
      "metadata": {
        "colab": {
          "base_uri": "https://localhost:8080/",
          "height": 645
        },
        "id": "RVCSkE04JRsf",
        "outputId": "bd1e6f9b-7bea-43d5-fcbf-7d41e1511578"
      },
      "execution_count": 16,
      "outputs": [
        {
          "output_type": "execute_result",
          "data": {
            "text/plain": [
              "                  Variable           VIF\n",
              "8         Total day charge  1.047619e+07\n",
              "6        Total day minutes  1.047619e+07\n",
              "11        Total eve charge  2.241027e+06\n",
              "9        Total eve minutes  2.241026e+06\n",
              "12     Total night minutes  6.389472e+05\n",
              "14      Total night charge  6.389459e+05\n",
              "17       Total intl charge  6.912156e+04\n",
              "15      Total intl minutes  6.912133e+04\n",
              "4          Voice mail plan  1.190895e+01\n",
              "5    Number vmail messages  1.190495e+01\n",
              "3       International plan  1.010769e+00\n",
              "2                Area code  1.007715e+00\n",
              "7          Total day calls  1.004760e+00\n",
              "1           Account length  1.004559e+00\n",
              "16        Total intl calls  1.004546e+00\n",
              "18  Customer service calls  1.004168e+00\n",
              "0                    State  1.003732e+00\n",
              "13       Total night calls  1.003501e+00\n",
              "10         Total eve calls  1.002698e+00"
            ],
            "text/html": [
              "\n",
              "  <div id=\"df-4fc177cc-e517-4dff-aaef-56a213856a87\">\n",
              "    <div class=\"colab-df-container\">\n",
              "      <div>\n",
              "<style scoped>\n",
              "    .dataframe tbody tr th:only-of-type {\n",
              "        vertical-align: middle;\n",
              "    }\n",
              "\n",
              "    .dataframe tbody tr th {\n",
              "        vertical-align: top;\n",
              "    }\n",
              "\n",
              "    .dataframe thead th {\n",
              "        text-align: right;\n",
              "    }\n",
              "</style>\n",
              "<table border=\"1\" class=\"dataframe\">\n",
              "  <thead>\n",
              "    <tr style=\"text-align: right;\">\n",
              "      <th></th>\n",
              "      <th>Variable</th>\n",
              "      <th>VIF</th>\n",
              "    </tr>\n",
              "  </thead>\n",
              "  <tbody>\n",
              "    <tr>\n",
              "      <th>8</th>\n",
              "      <td>Total day charge</td>\n",
              "      <td>1.047619e+07</td>\n",
              "    </tr>\n",
              "    <tr>\n",
              "      <th>6</th>\n",
              "      <td>Total day minutes</td>\n",
              "      <td>1.047619e+07</td>\n",
              "    </tr>\n",
              "    <tr>\n",
              "      <th>11</th>\n",
              "      <td>Total eve charge</td>\n",
              "      <td>2.241027e+06</td>\n",
              "    </tr>\n",
              "    <tr>\n",
              "      <th>9</th>\n",
              "      <td>Total eve minutes</td>\n",
              "      <td>2.241026e+06</td>\n",
              "    </tr>\n",
              "    <tr>\n",
              "      <th>12</th>\n",
              "      <td>Total night minutes</td>\n",
              "      <td>6.389472e+05</td>\n",
              "    </tr>\n",
              "    <tr>\n",
              "      <th>14</th>\n",
              "      <td>Total night charge</td>\n",
              "      <td>6.389459e+05</td>\n",
              "    </tr>\n",
              "    <tr>\n",
              "      <th>17</th>\n",
              "      <td>Total intl charge</td>\n",
              "      <td>6.912156e+04</td>\n",
              "    </tr>\n",
              "    <tr>\n",
              "      <th>15</th>\n",
              "      <td>Total intl minutes</td>\n",
              "      <td>6.912133e+04</td>\n",
              "    </tr>\n",
              "    <tr>\n",
              "      <th>4</th>\n",
              "      <td>Voice mail plan</td>\n",
              "      <td>1.190895e+01</td>\n",
              "    </tr>\n",
              "    <tr>\n",
              "      <th>5</th>\n",
              "      <td>Number vmail messages</td>\n",
              "      <td>1.190495e+01</td>\n",
              "    </tr>\n",
              "    <tr>\n",
              "      <th>3</th>\n",
              "      <td>International plan</td>\n",
              "      <td>1.010769e+00</td>\n",
              "    </tr>\n",
              "    <tr>\n",
              "      <th>2</th>\n",
              "      <td>Area code</td>\n",
              "      <td>1.007715e+00</td>\n",
              "    </tr>\n",
              "    <tr>\n",
              "      <th>7</th>\n",
              "      <td>Total day calls</td>\n",
              "      <td>1.004760e+00</td>\n",
              "    </tr>\n",
              "    <tr>\n",
              "      <th>1</th>\n",
              "      <td>Account length</td>\n",
              "      <td>1.004559e+00</td>\n",
              "    </tr>\n",
              "    <tr>\n",
              "      <th>16</th>\n",
              "      <td>Total intl calls</td>\n",
              "      <td>1.004546e+00</td>\n",
              "    </tr>\n",
              "    <tr>\n",
              "      <th>18</th>\n",
              "      <td>Customer service calls</td>\n",
              "      <td>1.004168e+00</td>\n",
              "    </tr>\n",
              "    <tr>\n",
              "      <th>0</th>\n",
              "      <td>State</td>\n",
              "      <td>1.003732e+00</td>\n",
              "    </tr>\n",
              "    <tr>\n",
              "      <th>13</th>\n",
              "      <td>Total night calls</td>\n",
              "      <td>1.003501e+00</td>\n",
              "    </tr>\n",
              "    <tr>\n",
              "      <th>10</th>\n",
              "      <td>Total eve calls</td>\n",
              "      <td>1.002698e+00</td>\n",
              "    </tr>\n",
              "  </tbody>\n",
              "</table>\n",
              "</div>\n",
              "      <button class=\"colab-df-convert\" onclick=\"convertToInteractive('df-4fc177cc-e517-4dff-aaef-56a213856a87')\"\n",
              "              title=\"Convert this dataframe to an interactive table.\"\n",
              "              style=\"display:none;\">\n",
              "        \n",
              "  <svg xmlns=\"http://www.w3.org/2000/svg\" height=\"24px\"viewBox=\"0 0 24 24\"\n",
              "       width=\"24px\">\n",
              "    <path d=\"M0 0h24v24H0V0z\" fill=\"none\"/>\n",
              "    <path d=\"M18.56 5.44l.94 2.06.94-2.06 2.06-.94-2.06-.94-.94-2.06-.94 2.06-2.06.94zm-11 1L8.5 8.5l.94-2.06 2.06-.94-2.06-.94L8.5 2.5l-.94 2.06-2.06.94zm10 10l.94 2.06.94-2.06 2.06-.94-2.06-.94-.94-2.06-.94 2.06-2.06.94z\"/><path d=\"M17.41 7.96l-1.37-1.37c-.4-.4-.92-.59-1.43-.59-.52 0-1.04.2-1.43.59L10.3 9.45l-7.72 7.72c-.78.78-.78 2.05 0 2.83L4 21.41c.39.39.9.59 1.41.59.51 0 1.02-.2 1.41-.59l7.78-7.78 2.81-2.81c.8-.78.8-2.07 0-2.86zM5.41 20L4 18.59l7.72-7.72 1.47 1.35L5.41 20z\"/>\n",
              "  </svg>\n",
              "      </button>\n",
              "      \n",
              "  <style>\n",
              "    .colab-df-container {\n",
              "      display:flex;\n",
              "      flex-wrap:wrap;\n",
              "      gap: 12px;\n",
              "    }\n",
              "\n",
              "    .colab-df-convert {\n",
              "      background-color: #E8F0FE;\n",
              "      border: none;\n",
              "      border-radius: 50%;\n",
              "      cursor: pointer;\n",
              "      display: none;\n",
              "      fill: #1967D2;\n",
              "      height: 32px;\n",
              "      padding: 0 0 0 0;\n",
              "      width: 32px;\n",
              "    }\n",
              "\n",
              "    .colab-df-convert:hover {\n",
              "      background-color: #E2EBFA;\n",
              "      box-shadow: 0px 1px 2px rgba(60, 64, 67, 0.3), 0px 1px 3px 1px rgba(60, 64, 67, 0.15);\n",
              "      fill: #174EA6;\n",
              "    }\n",
              "\n",
              "    [theme=dark] .colab-df-convert {\n",
              "      background-color: #3B4455;\n",
              "      fill: #D2E3FC;\n",
              "    }\n",
              "\n",
              "    [theme=dark] .colab-df-convert:hover {\n",
              "      background-color: #434B5C;\n",
              "      box-shadow: 0px 1px 3px 1px rgba(0, 0, 0, 0.15);\n",
              "      filter: drop-shadow(0px 1px 2px rgba(0, 0, 0, 0.3));\n",
              "      fill: #FFFFFF;\n",
              "    }\n",
              "  </style>\n",
              "\n",
              "      <script>\n",
              "        const buttonEl =\n",
              "          document.querySelector('#df-4fc177cc-e517-4dff-aaef-56a213856a87 button.colab-df-convert');\n",
              "        buttonEl.style.display =\n",
              "          google.colab.kernel.accessAllowed ? 'block' : 'none';\n",
              "\n",
              "        async function convertToInteractive(key) {\n",
              "          const element = document.querySelector('#df-4fc177cc-e517-4dff-aaef-56a213856a87');\n",
              "          const dataTable =\n",
              "            await google.colab.kernel.invokeFunction('convertToInteractive',\n",
              "                                                     [key], {});\n",
              "          if (!dataTable) return;\n",
              "\n",
              "          const docLinkHtml = 'Like what you see? Visit the ' +\n",
              "            '<a target=\"_blank\" href=https://colab.research.google.com/notebooks/data_table.ipynb>data table notebook</a>'\n",
              "            + ' to learn more about interactive tables.';\n",
              "          element.innerHTML = '';\n",
              "          dataTable['output_type'] = 'display_data';\n",
              "          await google.colab.output.renderOutput(dataTable, element);\n",
              "          const docLink = document.createElement('div');\n",
              "          docLink.innerHTML = docLinkHtml;\n",
              "          element.appendChild(docLink);\n",
              "        }\n",
              "      </script>\n",
              "    </div>\n",
              "  </div>\n",
              "  "
            ]
          },
          "metadata": {},
          "execution_count": 16
        }
      ]
    },
    {
      "cell_type": "code",
      "source": [
        "interact(interact_vif, \n",
        "         feature_1 = Checkbox(description='State'),\n",
        "         feature_2 = Checkbox(description='Account length'),\n",
        "         feature_3 = Checkbox(description='Area code'),\n",
        "         feature_4 = Checkbox(description='International plan'),\n",
        "         feature_5 = Checkbox(description='Voice mail plan'),\n",
        "         feature_6 = Checkbox(description='Number vmail messages'),\n",
        "         feature_7 = Checkbox(description='Total day minutes'),\n",
        "         feature_8 = Checkbox(description='Total day calls'),\n",
        "         feature_9 = Checkbox(description='Total day charge'),\n",
        "         feature_10 = Checkbox(description='Total eve minutes'),\n",
        "         feature_11 = Checkbox(description='Total eve calls'),\n",
        "         feature_12 = Checkbox(description='Total eve charge'),\n",
        "         feature_13 = Checkbox(description='Total night minutes'),\n",
        "         feature_14 = Checkbox(description='Total night calls'),\n",
        "         feature_15 = Checkbox(description='Total night charge'),\n",
        "         feature_16 = Checkbox(description='Total intl minutes'),\n",
        "         feature_17 = Checkbox(description='Total intl calls'),\n",
        "         feature_18 = Checkbox(description='Total intl charge'),\n",
        "         feature_19 = Checkbox(description='Customer service calls'),\n",
        "         )"
      ],
      "metadata": {
        "colab": {
          "base_uri": "https://localhost:8080/",
          "height": 1000,
          "referenced_widgets": [
            "5601f6e20e2248449e0ca759ce68206f",
            "14aea58d866b4ed3835f4ee054a07318",
            "9da80e02696a408a834060ddb7632bfa",
            "eb50791af5c048518812c69d394fa2d9",
            "cb5b45eebdf9408e9e23c5b90bc3b1d5",
            "ac915c09f3a642e58bf41ea00abded8f",
            "41131f4ae27046a1a21e9b4fd12c3407",
            "cd11a3ba36f1481fbda6fdab5dbcefd5",
            "7e63f6128444499881df290145bbc53b",
            "ff846b2414924a218fda574229100ef6",
            "97e62f2c94c94336ae89f17f79be99b8",
            "586a52692c234f9aa8e92da6a76293ad",
            "1e52b62eaaa14822bbb10852bcf79eac",
            "82bd629a06d9440495a6e7055277c83a",
            "6b55204586b446ffa59c7226f9924adf",
            "f78e04ffe9ec4b138bd22e5cbbf4dc28",
            "e87db9c311e14cf082db7356ae57496c",
            "1e187666e0d24b82a16c79a6daeec7c4",
            "a89e0370a8b64daab2a8ed94d5e25623",
            "dec0b5c6b9e9437ca43ee2adec55a518",
            "eef176c8378e4d309c9eaed413a19310",
            "526b0c6bcdc04bfa980240a4282a8044",
            "02ff7874aab44e44827730cd6f365180",
            "8d1927defd044c2ba0f0a4acb3c1a97c",
            "23ae66b9157e42609a607bb3cc8b1f69",
            "8a428505635f4149b1b35622b852dcda",
            "f8a812b3808f4d978ae0c6684b8fd9fa",
            "3298b1d3565149fcab598e4925be7fe0",
            "edb19831b4db451fa8c2d32a0b207927",
            "b0962ab8fe02472b8289f430c6fc8ae7",
            "b41382824d0f4ce4b19fbd90eca5c960",
            "15333198e72f44658770db39aa502263",
            "545b62acfbfd44769488499dd2d06f35",
            "f3a5453e91a3486a9c935a83679c5066",
            "f7d047d6da0e42ccaef896efa78a657e",
            "2a6c3be77c894a4789bdf0fd8d04f62c",
            "a5488ebb77cc4ef9b436501a7c2d36d0",
            "a145a89ec3a04e149bff275b2713f93d",
            "1ee9eb4c168c45ffb8b26b413951f143",
            "09b34f535f044ab4960e68afc92feb44",
            "975a025b9893456c9de92f60025bfa47",
            "d193741dd29c415395787b39207f97d4",
            "47122fbd2c1948efaf7574c506455976",
            "619a656f437a462dab5debe31389536a",
            "0a371bad49d54510998f9e3defd3b4c6",
            "18e7c1de781e44ebab9c6f2a54224c7e",
            "cf8fb05983164b6c9f2d5019bea58ecc",
            "3ed25c442cc54f5a80136558d4a77b79",
            "3a6cae064c8947efb383adff291f164b",
            "d20b43b0ff254b5e80b87bd13aa4a30d",
            "cf4c3469d24f4addb1ae9d268ef27ac2",
            "64db7fc7092c46ee9eb2f06e51633ede",
            "49f04523b5dd4a91b9b3b18948f52353",
            "4f39e41bbdb14764b86925c8883ecfc1",
            "2b099cc9dfaa44acad70180133ea486e",
            "c42c9685fdf449478bcf566caf288f89",
            "6e1e2368bec74296ab91e1e699041dd7",
            "591cd7adbd484be7aedfa0789260e318",
            "3f18fc1d6709469fac5a5cf0693859c9",
            "24a6eed2c798473cb6ff846d54ca0f29",
            "708f2fa33d774421a8e9a58b8b05132d"
          ]
        },
        "id": "QlG7-BgrKC8M",
        "outputId": "5b457379-96d0-4ab6-b68d-2852f2e49140"
      },
      "execution_count": 22,
      "outputs": [
        {
          "output_type": "display_data",
          "data": {
            "text/plain": [
              "interactive(children=(Checkbox(value=False, description='State'), Checkbox(value=False, description='Account l…"
            ],
            "application/vnd.jupyter.widget-view+json": {
              "version_major": 2,
              "version_minor": 0,
              "model_id": "5601f6e20e2248449e0ca759ce68206f"
            }
          },
          "metadata": {}
        },
        {
          "output_type": "execute_result",
          "data": {
            "text/plain": [
              "<function __main__.interact_vif>"
            ]
          },
          "metadata": {},
          "execution_count": 22
        }
      ]
    },
    {
      "cell_type": "markdown",
      "source": [
        "Up to VIF four features might be eleminated:"
      ],
      "metadata": {
        "id": "TvSWsamKQD4a"
      }
    },
    {
      "cell_type": "code",
      "source": [
        "x_hypothesis_vif = x_hypothesis.drop(['Voice mail plan', 'Total day minutes', 'Total eve charge', 'Total night minutes', 'Total intl charge'], axis = 1)"
      ],
      "metadata": {
        "id": "S0GZdvBcPpr2"
      },
      "execution_count": 23,
      "outputs": []
    },
    {
      "cell_type": "markdown",
      "source": [
        "Now let's apply classifier"
      ],
      "metadata": {
        "id": "RqBAIcmPQMiU"
      }
    },
    {
      "cell_type": "code",
      "source": [
        "from sklearn.model_selection import train_test_split\n",
        "\n",
        "X_train, X_test, y_train, y_test = train_test_split(x_hypothesis_vif, y, test_size=0.20)"
      ],
      "metadata": {
        "id": "yGLr5068H0so"
      },
      "execution_count": 24,
      "outputs": []
    },
    {
      "cell_type": "code",
      "source": [
        "len(X_train)"
      ],
      "metadata": {
        "colab": {
          "base_uri": "https://localhost:8080/"
        },
        "outputId": "cad16b53-5bc9-484d-f751-41a15fdf7597",
        "id": "vIwj4ByGH0sp"
      },
      "execution_count": 25,
      "outputs": [
        {
          "output_type": "execute_result",
          "data": {
            "text/plain": [
              "2666"
            ]
          },
          "metadata": {},
          "execution_count": 25
        }
      ]
    },
    {
      "cell_type": "code",
      "source": [
        "len(X_test)"
      ],
      "metadata": {
        "colab": {
          "base_uri": "https://localhost:8080/"
        },
        "outputId": "ad01764a-198f-4c76-dcf8-71a5a3234897",
        "id": "pz-8sJNaH0sq"
      },
      "execution_count": 26,
      "outputs": [
        {
          "output_type": "execute_result",
          "data": {
            "text/plain": [
              "667"
            ]
          },
          "metadata": {},
          "execution_count": 26
        }
      ]
    },
    {
      "cell_type": "markdown",
      "source": [
        "### Classification"
      ],
      "metadata": {
        "id": "DmEW_2ztH0sq"
      }
    },
    {
      "cell_type": "code",
      "source": [
        "!pip install lazypredict"
      ],
      "metadata": {
        "id": "dZ7G17BJH0sq"
      },
      "execution_count": null,
      "outputs": []
    },
    {
      "cell_type": "code",
      "source": [
        "!pip uninstall scikit-learn -y\n",
        "!pip install scikit-learn==0.23.1"
      ],
      "metadata": {
        "id": "N-7vgsMSH0sr"
      },
      "execution_count": null,
      "outputs": []
    },
    {
      "cell_type": "code",
      "source": [
        "from sklearn.metrics import log_loss, f1_score, roc_curve, auc\n",
        "from sklearn.metrics import accuracy_score, classification_report, confusion_matrix\n",
        "from matplotlib import pyplot as plt"
      ],
      "metadata": {
        "id": "Wrn7QMrmH0sr"
      },
      "execution_count": 28,
      "outputs": []
    },
    {
      "cell_type": "code",
      "source": [
        "from lazypredict.Supervised import LazyClassifier"
      ],
      "metadata": {
        "colab": {
          "base_uri": "https://localhost:8080/"
        },
        "outputId": "8112f6d2-8f65-40b2-bf7f-25d78c936dfa",
        "id": "jyAkO1QTH0sr"
      },
      "execution_count": 29,
      "outputs": [
        {
          "output_type": "stream",
          "name": "stderr",
          "text": [
            "/usr/local/lib/python3.7/dist-packages/sklearn/utils/deprecation.py:143: FutureWarning: The sklearn.utils.testing module is  deprecated in version 0.22 and will be removed in version 0.24. The corresponding classes / functions should instead be imported from sklearn.utils. Anything that cannot be imported from sklearn.utils is now part of the private API.\n",
            "  warnings.warn(message, FutureWarning)\n"
          ]
        }
      ]
    },
    {
      "cell_type": "code",
      "source": [
        "clf = LazyClassifier(verbose=0,ignore_warnings=True, custom_metric=None)\n",
        "models,predictions = clf.fit(X_train, X_test, y_train, y_test)\n",
        "\n",
        "print(models)"
      ],
      "metadata": {
        "colab": {
          "base_uri": "https://localhost:8080/"
        },
        "outputId": "c3865898-7a71-42ad-d9ea-8ceda30c8921",
        "id": "2HJFUcgrH0ss"
      },
      "execution_count": 30,
      "outputs": [
        {
          "output_type": "stream",
          "name": "stderr",
          "text": [
            "100%|██████████| 29/29 [00:11<00:00,  2.43it/s]"
          ]
        },
        {
          "output_type": "stream",
          "name": "stdout",
          "text": [
            "                               Accuracy  Balanced Accuracy  ROC AUC  F1 Score  \\\n",
            "Model                                                                           \n",
            "XGBClassifier                      0.95               0.87     0.87      0.95   \n",
            "LGBMClassifier                     0.95               0.87     0.87      0.95   \n",
            "BaggingClassifier                  0.94               0.84     0.84      0.93   \n",
            "DecisionTreeClassifier             0.91               0.83     0.83      0.91   \n",
            "RandomForestClassifier             0.94               0.82     0.82      0.93   \n",
            "NearestCentroid                    0.79               0.76     0.76      0.81   \n",
            "SVC                                0.89               0.70     0.70      0.87   \n",
            "ExtraTreesClassifier               0.89               0.68     0.68      0.87   \n",
            "QuadraticDiscriminantAnalysis      0.83               0.66     0.66      0.82   \n",
            "LabelPropagation                   0.84               0.66     0.66      0.83   \n",
            "LabelSpreading                     0.84               0.66     0.66      0.83   \n",
            "ExtraTreeClassifier                0.80               0.65     0.65      0.80   \n",
            "GaussianNB                         0.82               0.65     0.65      0.82   \n",
            "AdaBoostClassifier                 0.85               0.63     0.63      0.83   \n",
            "SGDClassifier                      0.84               0.62     0.62      0.82   \n",
            "KNeighborsClassifier               0.86               0.61     0.61      0.83   \n",
            "LinearDiscriminantAnalysis         0.82               0.58     0.58      0.80   \n",
            "Perceptron                         0.80               0.58     0.58      0.79   \n",
            "LogisticRegression                 0.83               0.56     0.56      0.79   \n",
            "CalibratedClassifierCV             0.83               0.55     0.55      0.79   \n",
            "LinearSVC                          0.84               0.54     0.54      0.78   \n",
            "RidgeClassifier                    0.83               0.53     0.53      0.77   \n",
            "RidgeClassifierCV                  0.83               0.53     0.53      0.77   \n",
            "PassiveAggressiveClassifier        0.78               0.52     0.52      0.75   \n",
            "BernoulliNB                        0.83               0.51     0.51      0.76   \n",
            "DummyClassifier                    0.72               0.48     0.48      0.71   \n",
            "\n",
            "                               Time Taken  \n",
            "Model                                      \n",
            "XGBClassifier                        1.35  \n",
            "LGBMClassifier                       0.86  \n",
            "BaggingClassifier                    0.80  \n",
            "DecisionTreeClassifier               0.10  \n",
            "RandomForestClassifier               1.48  \n",
            "NearestCentroid                      0.04  \n",
            "SVC                                  0.37  \n",
            "ExtraTreesClassifier                 1.10  \n",
            "QuadraticDiscriminantAnalysis        0.05  \n",
            "LabelPropagation                     1.01  \n",
            "LabelSpreading                       1.19  \n",
            "ExtraTreeClassifier                  0.07  \n",
            "GaussianNB                           0.03  \n",
            "AdaBoostClassifier                   0.68  \n",
            "SGDClassifier                        0.14  \n",
            "KNeighborsClassifier                 0.26  \n",
            "LinearDiscriminantAnalysis           0.19  \n",
            "Perceptron                           0.08  \n",
            "LogisticRegression                   0.11  \n",
            "CalibratedClassifierCV               1.19  \n",
            "LinearSVC                            0.34  \n",
            "RidgeClassifier                      0.07  \n",
            "RidgeClassifierCV                    0.04  \n",
            "PassiveAggressiveClassifier          0.05  \n",
            "BernoulliNB                          0.05  \n",
            "DummyClassifier                      0.03  \n"
          ]
        },
        {
          "output_type": "stream",
          "name": "stderr",
          "text": [
            "\n"
          ]
        }
      ]
    },
    {
      "cell_type": "code",
      "source": [
        "models = clf.provide_models(X_train, X_test, y_train, y_test)\n",
        "predictions = models['BaggingClassifier'].predict(X_test)\n",
        "\n",
        "print(sum([predictions[i] == np.array(y_test)[i] for i in range(len(X_test))]), len(X_test))"
      ],
      "metadata": {
        "colab": {
          "base_uri": "https://localhost:8080/"
        },
        "outputId": "172c31a5-f06f-443f-cbd1-8c97b9241e79",
        "id": "p9MVhs2hH0ss"
      },
      "execution_count": 31,
      "outputs": [
        {
          "output_type": "stream",
          "name": "stdout",
          "text": [
            "625 667\n"
          ]
        }
      ]
    },
    {
      "cell_type": "markdown",
      "source": [
        "### Evaluation"
      ],
      "metadata": {
        "id": "1Ba0hqPXH0ss"
      }
    },
    {
      "cell_type": "code",
      "source": [
        "from sklearn.metrics import f1_score\n",
        "import matplotlib.pyplot as plt\n",
        "import seaborn as sns\n",
        "\n",
        "def eval(y_true, y_pred):\n",
        "    print('Classification Report:')\n",
        "    print(classification_report(y_true, y_pred, labels=[1,0], digits=4))\n",
        "    \n",
        "    cm = confusion_matrix(y_true, y_pred, labels=[1,0])\n",
        "    ax= plt.subplot()\n",
        "    sns.heatmap(cm, annot=True, ax = ax, cmap='Blues', fmt=\"d\")\n",
        "\n",
        "    ax.set_title('Confusion Matrix')\n",
        "\n",
        "    ax.set_xlabel('Predicted Labels')\n",
        "    ax.set_ylabel('True Labels')\n",
        "\n",
        "    ax.xaxis.set_ticklabels(['FAKE', 'REAL'])\n",
        "    ax.yaxis.set_ticklabels(['FAKE', 'REAL'])"
      ],
      "metadata": {
        "id": "pUlWYtl7H0st"
      },
      "execution_count": 32,
      "outputs": []
    },
    {
      "cell_type": "code",
      "source": [
        "print(\"F-measure or f1-score: \", f1_score(y_test, predictions))\n",
        "\n",
        "fpr, tpr, thresholds = roc_curve(y_test, predictions)\n",
        "\n",
        "print(\"AUC: \", auc(fpr, tpr))\n",
        "\n",
        "eval(y_test, predictions)"
      ],
      "metadata": {
        "colab": {
          "base_uri": "https://localhost:8080/",
          "height": 503
        },
        "outputId": "7b608d64-320e-486d-bc7f-5f0f8bde177a",
        "id": "9xxiIqNJH0st"
      },
      "execution_count": 33,
      "outputs": [
        {
          "output_type": "stream",
          "name": "stdout",
          "text": [
            "F-measure or f1-score:  0.7857142857142856\n",
            "AUC:  0.8352928021468962\n",
            "Classification Report:\n",
            "              precision    recall  f1-score   support\n",
            "\n",
            "           1     0.9277    0.6814    0.7857       113\n",
            "           0     0.9384    0.9892    0.9631       554\n",
            "\n",
            "    accuracy                         0.9370       667\n",
            "   macro avg     0.9330    0.8353    0.8744       667\n",
            "weighted avg     0.9366    0.9370    0.9330       667\n",
            "\n"
          ]
        },
        {
          "output_type": "display_data",
          "data": {
            "text/plain": [
              "<Figure size 432x288 with 2 Axes>"
            ],
            "image/png": "[encoded data removed]"
          },
          "metadata": {
            "needs_background": "light"
          }
        }
      ]
    },
    {
      "cell_type": "markdown",
      "source": [
        "**Hypothesis** - `Dealing with multicolinearity does not affect the performance` - is confirmed. \n",
        "\n",
        "*Performance hasn't changed considerably*."
      ],
      "metadata": {
        "id": "ETzODyr7SE3m"
      }
    }
  ]
}